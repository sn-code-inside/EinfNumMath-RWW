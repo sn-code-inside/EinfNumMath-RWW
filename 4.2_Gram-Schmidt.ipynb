{
 "cells": [
  {
   "cell_type": "markdown",
   "id": "0c8fec5b",
   "metadata": {},
   "source": [
    "## 4.2 Das Gram-Schmidt-Verfahren"
   ]
  },
  {
   "cell_type": "code",
   "execution_count": null,
   "id": "9583f8ff",
   "metadata": {},
   "outputs": [],
   "source": [
    "import numpy as np\n",
    "from scripts.LR_Zerlegung import rueckwaerts_einsetzen"
   ]
  },
  {
   "cell_type": "markdown",
   "id": "f6752132-4d2a-49c1-8631-0772a411ddb0",
   "metadata": {},
   "source": [
    "Wir implementieren das klassische Gram-Schmidt-Verfahren, welches in Satz 4.6 beschrieben ist."
   ]
  },
  {
   "cell_type": "code",
   "execution_count": null,
   "id": "1aec6799",
   "metadata": {},
   "outputs": [],
   "source": [
    "def gram_schmidt(A):\n",
    "    n = A.shape[0]\n",
    "    Q = np.zeros_like(A)\n",
    "    \n",
    "    for i in range(n):\n",
    "        Q[:, i] = A[:, i]\n",
    "        for j in range(i):\n",
    "            Q[:, i] -= np.inner(A[:,i], Q[:, j]) * Q[:, j]\n",
    "        Q[:, i] /= np.linalg.norm(Q[:, i])\n",
    "     \n",
    "    return Q"
   ]
  },
  {
   "cell_type": "markdown",
   "id": "913d5e07-583c-416c-85da-d0f40f1bbe11",
   "metadata": {},
   "source": [
    "*Ergänzende  Einzelheiten zum Code*\n",
    "- Anstelle die Vektoren $\\tilde{q}_i$ einzeln zu speichern, speichern $\\tilde{q}_i$ in der i-ten Spalte von der Matrix `Q`. \n",
    "- Die `numpy` Funktion `inner` gibt uns eine effiziente Implementierung des Skalarproduktes für zwei arrays.\n",
    "- Die `numpy` Funktion `linalg.norm` gibt uns eine effiziente Implementierung der 2-Norm. Über das Argument `ord` lassen sich damit auch andere Normen von Vektoren und Matrizen berechnen.\n",
    "\n",
    "#### Beispiel 4.7 (Gram-Schmidt)\n",
    "Wir wenden unsere Implementierung nun auf die 3x3 Hilbert-Matrix\n",
    "$$\n",
    "A = \n",
    "\\begin{pmatrix} 1 & 1/2 & 1/3\\\\ 1/2 & 1/3 & 1/4\\\\1/3 & 1/4 & 1/5\\end{pmatrix}\n",
    "$$\n",
    "an. Um die Effekte der endlichen Arithmetik zu verdeutlichen, nehmen wir dabei `half` Gleitkommazahlen."
   ]
  },
  {
   "cell_type": "code",
   "execution_count": null,
   "id": "b61852e1",
   "metadata": {},
   "outputs": [],
   "source": [
    "A = np.array([[1,     1 / 2, 1 / 3],\n",
    "              [1 / 2, 1 / 3, 1 / 4],\n",
    "              [1 / 3, 1 / 4, 1 / 5]], dtype=np.half)\n",
    "Q = gram_schmidt(A)\n",
    "print(Q)"
   ]
  },
  {
   "cell_type": "markdown",
   "id": "6c025a27-7629-4595-bf4a-c1fd0bf62ad2",
   "metadata": {},
   "source": [
    "Nun überprüfen wir inwiefern das Ergebnis wirklich eine orthogonale Matrix ist. Um zwei zweidimensionale `numpy` wie Matrizen zu multiplizieren, müssen wir den `@` Operator verwenden. Der `*` Operator erzeugt das komponentenweise Produkt von zwei arrays."
   ]
  },
  {
   "cell_type": "code",
   "execution_count": null,
   "id": "2b4377fd",
   "metadata": {},
   "outputs": [],
   "source": [
    "print(Q @ Q.transpose())\n",
    "err_ort = np.linalg.norm(Q @ Q.transpose() - np.identity(Q.shape[0]), ord=2)\n",
    "print(f'||Q * Q^T - I||_2 = {err_ort}')"
   ]
  },
  {
   "cell_type": "markdown",
   "id": "0ad5823a",
   "metadata": {},
   "source": [
    "#### Beispiel 4.8 (QR-Zerlegung mit Gram-Schmidt)\n",
    "\n",
    "Jetzt können wir das obige Gram-Schmidt-Verfahren anpassen um eine QR-Zerlegung der Matrix zu berechnen."
   ]
  },
  {
   "cell_type": "code",
   "execution_count": null,
   "id": "e6b22699",
   "metadata": {},
   "outputs": [],
   "source": [
    "def qr_gram_schmidt(A):\n",
    "    n = A.shape[0]\n",
    "    Q, R = np.zeros_like(A), np.zeros_like(A)\n",
    "    \n",
    "    for i in range(n):\n",
    "        Q[:, i] = A[:, i]\n",
    "        for j in range(i):\n",
    "            Q[:, i] -= np.inner(A[:,i], Q[:, j]) * Q[:, j]\n",
    "        Q[:, i] /= np.linalg.norm(Q[:, i])\n",
    "        for j in range(i, n):\n",
    "            R[i, j] = np.inner(Q[:, i], A[:, j])\n",
    "    return Q, R"
   ]
  },
  {
   "cell_type": "markdown",
   "id": "7ddb28a1-ae03-4700-884a-820eda485807",
   "metadata": {},
   "source": [
    "Wir testen dies nun an dem linearen Gleichungssystem $Ax=v$ mit\n",
    "$$\n",
    "A = \n",
    "\\begin{pmatrix} 1 & 1 & 1\\\\ 0.01 & 0 & 0.01\\\\ 0 & 0.01 & 0.01\\end{pmatrix}\n",
    "\\qquad\n",
    "b =\n",
    "\\begin{pmatrix} 1\\\\ 0\\\\ 0.02\\end{pmatrix}\n",
    "$$\n",
    "welches die exakte Lösung\n",
    "$$\n",
    "x =\n",
    "\\begin{pmatrix} -1\\\\ 1\\\\ 1\\end{pmatrix}\n",
    "$$\n",
    "hat. Um wieder die Effekte der endlichen Arithmetik zu verdeutlichen, nehmen wir dabei auch `half` Gleitkommazahlen."
   ]
  },
  {
   "cell_type": "code",
   "execution_count": null,
   "id": "c4dafcb8",
   "metadata": {},
   "outputs": [],
   "source": [
    "A = np.array([[1,    1,    1   ],\n",
    "              [0.01, 0,    0.01],\n",
    "              [0,    0.01, 0.01]], dtype=np.half)\n",
    "b = np.array([1, 0, 0.02], dtype=np.half)\n",
    "x_ex = np.array([-1, 1, 1])\n",
    "\n",
    "Q, R = qr_gram_schmidt(A)\n",
    "\n",
    "b2 = np.dot(Q.transpose(), b)\n",
    "x = rueckwaerts_einsetzen(R, b2)\n",
    "\n",
    "print('x =', x)\n",
    "print('x_ex = ', x_ex)"
   ]
  },
  {
   "cell_type": "markdown",
   "id": "4963aca4-c326-4c48-a8fd-22e9ce47a6e3",
   "metadata": {},
   "source": [
    "Das ergibt den relativen Fehler"
   ]
  },
  {
   "cell_type": "code",
   "execution_count": null,
   "id": "1295ac4a",
   "metadata": {},
   "outputs": [],
   "source": [
    "rel_err = np.linalg.norm(x - x_ex) / np.linalg.norm(x_ex)\n",
    "print(f'||x - x_ex|| / ||x_ex|| = {rel_err}')"
   ]
  },
  {
   "cell_type": "markdown",
   "id": "80cefcea-f7e4-450f-bf90-93f74de39861",
   "metadata": {},
   "source": [
    "Die Abweichung der Orthogonalität in der Frobenius-Norm ist dabei"
   ]
  },
  {
   "cell_type": "code",
   "execution_count": null,
   "id": "613e5999",
   "metadata": {},
   "outputs": [],
   "source": [
    "err_ort = np.linalg.norm(Q @ Q.transpose() - np.identity(Q.shape[0]), ord=2)\n",
    "print(f'||Q * Q^T - I||_2 = {err_ort}')"
   ]
  },
  {
   "cell_type": "markdown",
   "id": "09f7c91e",
   "metadata": {},
   "source": [
    "#### Beispiel 4.10 (Modifiziertes Gram-Schmidt-Verfahren)\n",
    "\n",
    "Da das Verfahren in dieser Form nicht besonders stabil ist, implementieren wir nun das modifizierte Gram-Schmidt-Verfahren."
   ]
  },
  {
   "cell_type": "code",
   "execution_count": null,
   "id": "8b2fea11",
   "metadata": {},
   "outputs": [],
   "source": [
    "def mod_gram_schmidt(A):\n",
    "    n = A.shape[0]\n",
    "    Q = np.zeros_like(A)\n",
    "    \n",
    "    for i in range(n):\n",
    "        Q[:, i] = A[:, i]\n",
    "        for j in range(i):\n",
    "            Q[:, i] -= np.inner(Q[:, i], Q[:, j]) * Q[:, j]\n",
    "        Q[:, i] /= np.linalg.norm(Q[:, i])\n",
    "    return Q "
   ]
  },
  {
   "cell_type": "markdown",
   "id": "828de5e2-a157-498a-ab9f-092282931e55",
   "metadata": {},
   "source": [
    "Angewandt auf die 3x3 Hilbert-Matrix ergibt bei `half` Gleitkommadarstellung"
   ]
  },
  {
   "cell_type": "code",
   "execution_count": null,
   "id": "0fe42073",
   "metadata": {},
   "outputs": [],
   "source": [
    "A = np.array([[1,     1 / 2, 1 / 3],\n",
    "              [1 / 2, 1 / 3, 1 / 4],\n",
    "              [1 / 3, 1 / 4, 1 / 5]], dtype=np.half)\n",
    "\n",
    "Q = mod_gram_schmidt(A)\n",
    "err_ort = np.linalg.norm(Q @ Q.transpose() - np.identity(Q.shape[0]), ord=2)\n",
    "print(f'Q =\\n{Q}')\n",
    "print(f'||Q * Q^T - I||_2 = {err_ort}')"
   ]
  },
  {
   "cell_type": "markdown",
   "id": "fcfd93be-c0ab-47a6-9ffd-ec3428268dbe",
   "metadata": {},
   "source": [
    "Die Orthogonalität hat sich somit um etwa den Faktor 3.7 verbessert. Wir können diese Verfahren nun also auch dazu verwenden um eine QR-Zerlegung zu berechnen."
   ]
  },
  {
   "cell_type": "code",
   "execution_count": null,
   "id": "19507649",
   "metadata": {},
   "outputs": [],
   "source": [
    "def qr_mod_gram_schmidt(A):\n",
    "    n = A.shape[0]\n",
    "    Q, R = np.zeros_like(A), np.zeros_like(A)\n",
    "    \n",
    "    for i in range(n):\n",
    "        Q[:, i] = A[:, i]\n",
    "        for j in range(i):\n",
    "            Q[:, i] -= np.inner(Q[:, i], Q[:, j]) * Q[:, j]\n",
    "        Q[:, i] /= np.linalg.norm(Q[:, i])\n",
    "        for j in range(i, n):\n",
    "            R[i, j] = np.inner(Q[:, i], A[:, j])\n",
    "    return Q, R"
   ]
  },
  {
   "cell_type": "markdown",
   "id": "2157c61e-703d-427c-a071-fca6edee1632",
   "metadata": {},
   "source": [
    "Wenn wir dies nun anwenden um das obige lineare Gleichungssystem zu lösen, sehen wir"
   ]
  },
  {
   "cell_type": "code",
   "execution_count": null,
   "id": "324b0a8f",
   "metadata": {},
   "outputs": [],
   "source": [
    "A = np.array([[1,    1,    1   ],\n",
    "              [0.01, 0,    0.01],\n",
    "              [0,    0.01, 0.01]], dtype=np.half)\n",
    "b = np.array([1, 0, 0.02], dtype=np.half)\n",
    "x_ex = np.array([-1, 1, 1])\n",
    "\n",
    "Q, R = qr_mod_gram_schmidt(A)\n",
    "b3 = np.dot(Q.transpose(), b)\n",
    "x2 = rueckwaerts_einsetzen(R, b3)\n",
    "print(f'x = {x2}')"
   ]
  },
  {
   "cell_type": "markdown",
   "id": "801f3eb2-a1ab-4a1d-b4cb-77f14c2c5573",
   "metadata": {},
   "source": [
    "Diese Lösung ist weiterhin nicht sehr genau. Wenn wir dies quantifizieren, sehen wir"
   ]
  },
  {
   "cell_type": "code",
   "execution_count": null,
   "id": "5cbfc35c",
   "metadata": {},
   "outputs": [],
   "source": [
    "rel_err = np.linalg.norm(x2 - x_ex) / np.linalg.norm(x_ex)\n",
    "print(f'||x - x_ex|| / ||x_ex|| = {rel_err}')\n",
    "\n",
    "err_ort = np.linalg.norm(Q @ Q.transpose() - np.identity(Q.shape[0]), ord=2)\n",
    "print(f'||Q * Q^T - I||_2 = {err_ort}')"
   ]
  },
  {
   "cell_type": "markdown",
   "id": "fcee3a51-dd66-472a-a627-65b1468415aa",
   "metadata": {},
   "source": [
    "Obwohl wir die Orthogonalität der Matrix $Q$ um den Faktor 70 verbessert haben, ist der relative Fehler der Lösung nicht einmal halbiert worden."
   ]
  }
 ],
 "metadata": {
  "kernelspec": {
   "display_name": "Python 3 (ipykernel)",
   "language": "python",
   "name": "python3"
  },
  "language_info": {
   "codemirror_mode": {
    "name": "ipython",
    "version": 3
   },
   "file_extension": ".py",
   "mimetype": "text/x-python",
   "name": "python",
   "nbconvert_exporter": "python",
   "pygments_lexer": "ipython3",
   "version": "3.11.9"
  }
 },
 "nbformat": 4,
 "nbformat_minor": 5
}
