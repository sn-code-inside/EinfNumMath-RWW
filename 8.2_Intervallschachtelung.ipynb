{
 "cells": [
  {
   "cell_type": "markdown",
   "id": "d19d1349",
   "metadata": {},
   "source": [
    "## 8.2 Intervallschachtelung\n",
    "\n",
    "Das einfachste Verfahren zur Nullstellenbestimmung ist die Intervallschachtelung, welche auf einer Anwendung des Zwischenwertsatzes beruht.\n",
    "\n",
    "**Implementierung 8.1: Intervallschachtelung**"
   ]
  },
  {
   "cell_type": "code",
   "execution_count": null,
   "id": "30dd4c7e",
   "metadata": {},
   "outputs": [],
   "source": [
    "def intervall_schachtelung(f, a, b, n, tol=1e-10):\n",
    "    print('it  a          b          x             f(a)       f(b)       b - a')\n",
    "    for i in range(n):\n",
    "        x = (a + b) / 2\n",
    "        print(f'{i:03d} {a: .3e} {b: .3e} {x: .6e} {f(a): 5.3e} {f(b): 5.3e} {b - a:5.3e}')\n",
    "        if abs(f(x)) < tol:\n",
    "            print(f'Die Intervallschachtelung ist nach {i + 1} Iterationen konvergiert')\n",
    "            return x\n",
    "        elif f(a) * f(x) < 0:\n",
    "            b = x\n",
    "        else:\n",
    "            a = x\n",
    "\n",
    "    print(f'Die Intervallschachtelung ist nach {n} Iterationen nicht konvergiert')\n",
    "    print(f'x = {x}, abs(f(x)) = {abs(f(x))} > {tol}')\n",
    "    return x"
   ]
  },
  {
   "cell_type": "markdown",
   "id": "fb02ab62-4ede-436c-9155-b36c68bb40d8",
   "metadata": {},
   "source": [
    "Wir betrachten die Funktion $f$ aus der Einleitung\n",
    "$$f(x) = x(1+\\exp(x))+10\\sin(3+\\log(x^2+1)).$$\n",
    "Wir haben argumentiert, dass $f(x)<0$ für $x<-10$ und $f(x)>0$ für $x>10$ gilt. Im Intervall $[-10,10]$ liegt somit mindestens eine Nullstelle."
   ]
  },
  {
   "cell_type": "code",
   "execution_count": null,
   "id": "8e9bc956",
   "metadata": {},
   "outputs": [],
   "source": [
    "from math import exp, sin, log\n",
    "\n",
    "def f(x):\n",
    "    return x * (1 + exp(x)) + 10 * sin(3 + log(x**2 + 1))"
   ]
  },
  {
   "cell_type": "markdown",
   "id": "8783d011-c6b0-4c49-a6b3-f778c6cd208e",
   "metadata": {},
   "source": [
    "Wir testen unseren Algorithmus nun um eine (der fünf) Nullstelle(n) zu identifizieren."
   ]
  },
  {
   "cell_type": "code",
   "execution_count": null,
   "id": "8665e3f7",
   "metadata": {},
   "outputs": [],
   "source": [
    "intervall_schachtelung(f, -10, 10, 100, tol=1e-6)"
   ]
  },
  {
   "cell_type": "markdown",
   "id": "61bcff13-9323-46aa-9bc3-436e25ca81e0",
   "metadata": {},
   "source": [
    "Da wir jetzt wissen, dass $-0.30448$ eine Nullstelle, bis auf die Toleranz $10^{-6}$ ist. Können wir in einem kleineren Intervall versuchen die Nullstelle genauer zu bestimmen. "
   ]
  },
  {
   "cell_type": "code",
   "execution_count": null,
   "id": "357df333",
   "metadata": {},
   "outputs": [],
   "source": [
    "intervall_schachtelung(f, -1, 0, 100, tol=1e-10)"
   ]
  },
  {
   "cell_type": "markdown",
   "id": "60bedada-c259-4b3f-9a2d-6f3651581e17",
   "metadata": {},
   "source": [
    "Da die Intervallschachtelung allerdings nur sehr langsam konvergiert, sind immer noch 32 Schritte des Algorithmus notwendig."
   ]
  },
  {
   "cell_type": "code",
   "execution_count": null,
   "id": "a142cd99-57e9-4ebe-a643-91b8d891b66f",
   "metadata": {},
   "outputs": [],
   "source": []
  },
  {
   "cell_type": "code",
   "execution_count": null,
   "id": "768f9f8a-5c63-470a-b438-f8e63ba0a213",
   "metadata": {},
   "outputs": [],
   "source": []
  }
 ],
 "metadata": {
  "kernelspec": {
   "display_name": "Python 3 (ipykernel)",
   "language": "python",
   "name": "python3"
  },
  "language_info": {
   "codemirror_mode": {
    "name": "ipython",
    "version": 3
   },
   "file_extension": ".py",
   "mimetype": "text/x-python",
   "name": "python",
   "nbconvert_exporter": "python",
   "pygments_lexer": "ipython3",
   "version": "3.11.9"
  }
 },
 "nbformat": 4,
 "nbformat_minor": 5
}
