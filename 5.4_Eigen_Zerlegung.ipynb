{
 "cells": [
  {
   "cell_type": "markdown",
   "id": "51657b69",
   "metadata": {},
   "source": [
    "## 5.4 Zerlegungsverfahren zur Eigenwertbestimmung\n",
    "\n",
    "### 5.4.1 Cholesky-Verfahren"
   ]
  },
  {
   "cell_type": "code",
   "execution_count": null,
   "id": "9cbeaf85",
   "metadata": {},
   "outputs": [],
   "source": [
    "import numpy as np\n",
    "from scripts.Cholesky import cholesky"
   ]
  },
  {
   "cell_type": "markdown",
   "id": "11a83078-0f30-4a88-8c9c-f3d433d203c3",
   "metadata": {},
   "source": [
    "**Algorithmus 5.1: Cholesky-Verfahren**"
   ]
  },
  {
   "cell_type": "code",
   "execution_count": null,
   "id": "3b5b5a05",
   "metadata": {},
   "outputs": [],
   "source": [
    "def cholesky_verfahren(A, k):\n",
    "    A = A.copy()\n",
    "    n, m = A.shape\n",
    "    for l in range(k):\n",
    "        L = cholesky(A)\n",
    "        A = L.transpose() @ L\n",
    "        # for i in range(n):\n",
    "        #     for j in range(n):\n",
    "        #         a = 0\n",
    "        #         for k in range(max(i, j), n):\n",
    "        #             a += L[k, i] * L[k, j]\n",
    "        #         A[i, j] = a\n",
    "        # print(f'A_{l} =\\n{A}\\n')\n",
    "    return A"
   ]
  },
  {
   "cell_type": "markdown",
   "id": "206c0b0d-c29d-41e6-8c23-63a13d4cbcd8",
   "metadata": {},
   "source": [
    "*Ergänzende Einzelheiten zum Code*\n",
    "- Wir verwenden hier das direkte Matrix-Matrix-Produkt von `numpy`, da dies wesentlich effizienter ist als zwei verschachtelte Python-Schleifen.\n",
    "- Um die Geschwindigkeit von einer jupyter-Zelle zu messen, können Sie einen sogenannten \"cell magic\" Befehl verwenden. Wenn Sie in der ersten Zeile einer Zelle `%%timit` schreiben, dann wird die Zelle wiederholt ausgeführt und die Zeit gemessen, um die durchschnittliche Rechenzeit zu bestimmen. Probieren Sie es mit der nächsten Zelle aus, um den Geschwindigkeitsunterschied zwischen den Schleifen und dem Matrix-Matrix-Produkt festzustellen.\n",
    "\n",
    "#### Beispiel 5.20 (Cholesky-Verfahren)\n",
    "Wir betrachten die Matrix\n",
    "$$A = \\begin{pmatrix}3&-1&0&1\\\\-1&3&1&1\\\\ 0&1&3&0\\\\1&1&0&3\\end{pmatrix}.$$\n",
    "Mit $A_0:=A$ führen wir einige Schritte des Cholesky-Verfahrens mit unserem\n",
    "Python-Code durch."
   ]
  },
  {
   "cell_type": "code",
   "execution_count": null,
   "id": "99115fd2",
   "metadata": {},
   "outputs": [],
   "source": [
    "A = np.array([[3, -1, 0, 1],\n",
    "              [-1, 3, 1, 1],\n",
    "              [0, 1, 3, 0],\n",
    "              [1, 1, 0, 3]], dtype=np.double)\n",
    "A_chol = cholesky_verfahren(A, 50)"
   ]
  },
  {
   "cell_type": "markdown",
   "id": "c7198d36-6c74-4555-accc-a3fbc36df896",
   "metadata": {},
   "source": [
    "Die Eigenwerte sind damit approximiert durch"
   ]
  },
  {
   "cell_type": "code",
   "execution_count": null,
   "id": "c5fd92e0",
   "metadata": {},
   "outputs": [],
   "source": [
    "lam = np.flip(np.diag(A_chol))\n",
    "print(lam)"
   ]
  },
  {
   "cell_type": "markdown",
   "id": "2df4bd11-b529-4e5c-b524-81b11049b344",
   "metadata": {},
   "source": [
    "Damit ergeben sich die relativen Fehler"
   ]
  },
  {
   "cell_type": "code",
   "execution_count": null,
   "id": "41ac6c14",
   "metadata": {},
   "outputs": [],
   "source": [
    "lam_ex = np.linalg.eig(A)[0]\n",
    "print(np.abs(lam - lam_ex) / lam_ex)"
   ]
  },
  {
   "cell_type": "markdown",
   "id": "99b788a8",
   "metadata": {},
   "source": [
    "### 5.4.2 QR-Verfahren\n",
    "\n",
    "Wir implementieren das QR-Verfahren mithilfe unserer Implementierung des QR-Verfahrens mit Givens-Rotationen."
   ]
  },
  {
   "cell_type": "code",
   "execution_count": null,
   "id": "3bedac92",
   "metadata": {},
   "outputs": [],
   "source": [
    "from scripts.Givens import qr_givens"
   ]
  },
  {
   "cell_type": "code",
   "execution_count": null,
   "id": "09196fc6",
   "metadata": {},
   "outputs": [],
   "source": [
    "def qr_verfahren(A, k):\n",
    "    A = A.copy()\n",
    "    \n",
    "    for l in range(k):\n",
    "        QT = qr_givens(A)\n",
    "        A = A @ QT.transpose()\n",
    "    return A"
   ]
  },
  {
   "cell_type": "markdown",
   "id": "b4af1533-9442-47d1-9518-f62f74750f8d",
   "metadata": {},
   "source": [
    "#### Beispiel 5.22 (QR-Verfahren)\n",
    "\n",
    "Wir wenden das QR-Verfahren mit 25 Schritten auf dieselbe Matrix an."
   ]
  },
  {
   "cell_type": "code",
   "execution_count": null,
   "id": "1a811688",
   "metadata": {},
   "outputs": [],
   "source": [
    "A_neu = qr_verfahren(A, 25)\n",
    "lam_qr = np.flip(np.diag(A_neu))\n",
    "print(lam_qr)"
   ]
  },
  {
   "cell_type": "markdown",
   "id": "552a49fc-be82-4e15-b833-ad34294fe335",
   "metadata": {},
   "source": [
    "Damit ergeben sich die Fehler"
   ]
  },
  {
   "cell_type": "code",
   "execution_count": null,
   "id": "55df9c2c-f243-4439-ab38-573ec3b98b4e",
   "metadata": {},
   "outputs": [],
   "source": [
    "print(np.abs(lam_qr - lam_ex) / lam_ex)"
   ]
  },
  {
   "cell_type": "markdown",
   "id": "21086958-9866-4d25-be71-04d2e210497e",
   "metadata": {},
   "source": [
    "Nach der Hälfte der Schritte wurden also die Eigenwerte auf die gleiche Genauigkeit bestimmt.\n",
    "\n",
    "#### Beispiel 5.24 (QR-Verfahren mit Shift)\n",
    "\n",
    "Wir implementieren das QR-Verfahren mit Shift und wenden dabei in jedem Schritt die Approximation des größten Eigenwertes als Shift an. "
   ]
  },
  {
   "cell_type": "code",
   "execution_count": null,
   "id": "5e258dac",
   "metadata": {},
   "outputs": [],
   "source": [
    "def qr_verfahren_mit_shift(A, k):\n",
    "    A = A.copy()\n",
    "    Id = np.identity(A.shape[0], dtype=A.dtype)\n",
    "    for l in range(k):\n",
    "        mu = np.amax(np.diag(A))\n",
    "        A[:,:] -= mu * Id\n",
    "        QT = qr_givens(A)\n",
    "        A[:,:] = A @ QT.transpose() + mu * Id\n",
    "#         print(f'mu_0 = {mu}')\n",
    "#         print(f'A_{l} =\\n{A}\\n')\n",
    "    return A"
   ]
  },
  {
   "cell_type": "markdown",
   "id": "b51bf075-f7ac-464e-97cc-64163ad861b7",
   "metadata": {},
   "source": [
    "Wenden wir dies auf dieselbe Matrix mit nur 6 Schritten an, erhalten wir"
   ]
  },
  {
   "cell_type": "code",
   "execution_count": null,
   "id": "8c6f48bd",
   "metadata": {},
   "outputs": [],
   "source": [
    "A_neu = qr_verfahren_mit_shift(A, 6)\n",
    "lam_qrs = np.diag(A_neu)\n",
    "print(lam_qr)"
   ]
  },
  {
   "cell_type": "markdown",
   "id": "0df48c8b-3295-4964-a1fc-094b1e686d6b",
   "metadata": {},
   "source": [
    "Damit ergeben sich die Fehler"
   ]
  },
  {
   "cell_type": "code",
   "execution_count": null,
   "id": "73c9f4f1",
   "metadata": {},
   "outputs": [],
   "source": [
    "print(np.abs(lam_qrs - lam_ex) / lam_ex)"
   ]
  },
  {
   "cell_type": "markdown",
   "id": "1668f1da-79e7-4ba7-bd9c-542292722939",
   "metadata": {},
   "source": [
    "Also erhalten wir wieder einen maximalen relativen Fehler von $0.3\\%$."
   ]
  },
  {
   "cell_type": "code",
   "execution_count": null,
   "id": "d9c74970-95ae-4148-9965-cbf1dfd28197",
   "metadata": {},
   "outputs": [],
   "source": []
  }
 ],
 "metadata": {
  "kernelspec": {
   "display_name": "Python 3 (ipykernel)",
   "language": "python",
   "name": "python3"
  },
  "language_info": {
   "codemirror_mode": {
    "name": "ipython",
    "version": 3
   },
   "file_extension": ".py",
   "mimetype": "text/x-python",
   "name": "python",
   "nbconvert_exporter": "python",
   "pygments_lexer": "ipython3",
   "version": "3.11.9"
  }
 },
 "nbformat": 4,
 "nbformat_minor": 5
}
