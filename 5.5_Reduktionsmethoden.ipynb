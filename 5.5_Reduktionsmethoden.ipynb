{
 "cells": [
  {
   "cell_type": "markdown",
   "id": "cdd782c4",
   "metadata": {},
   "source": [
    "## 5.5 Reduktionsmethoden"
   ]
  },
  {
   "cell_type": "code",
   "execution_count": null,
   "id": "261adf87",
   "metadata": {},
   "outputs": [],
   "source": [
    "import numpy as np"
   ]
  },
  {
   "cell_type": "markdown",
   "id": "d3ae5596-80c3-4990-b424-cb27d3d0a7c7",
   "metadata": {},
   "source": [
    "**Transformation in die Hessenberg-Gestalt**"
   ]
  },
  {
   "cell_type": "code",
   "execution_count": null,
   "id": "a3179e2e",
   "metadata": {},
   "outputs": [],
   "source": [
    "def reduktion_auf_hessenberg(A):\n",
    "    n, m = A.shape\n",
    "    for i in range(m - 2):\n",
    "        v = A[i + 1:, i].copy()\n",
    "        ei = np.zeros(n - i - 1, dtype=A.dtype)\n",
    "        ei[0] = 1\n",
    "        v += np.sign(v[0]) * np.linalg.norm(v) * ei\n",
    "        v /= np.linalg.norm(v)\n",
    "        A[i + 1:, i:] -= 2 * np.outer(v, np.inner(v.T, A[i + 1:, i:].T))\n",
    "        A[:, i + 1:] -= 2 * np.outer(np.inner(A[:, i + 1:], v), v)\n",
    "    return None"
   ]
  },
  {
   "cell_type": "markdown",
   "id": "4ae2944b-5265-4491-804f-742692b09590",
   "metadata": {},
   "source": [
    "Wir betrachten die Matrix\n",
    "$$A = \\begin{pmatrix}\n",
    "338 & -20 & -90 & 32 \\\\ -20 & 17 & 117 & 70\n",
    "\\\\ -90 & 117 & 324 & -252 \\\\ 32 & 70 & -252 & 131\n",
    "\\end{pmatrix}.$$\n",
    "Mit den Eigenwerten"
   ]
  },
  {
   "cell_type": "code",
   "execution_count": null,
   "id": "fe9589dd",
   "metadata": {},
   "outputs": [],
   "source": [
    "A = np.array([[338, -20, -90, 32],\n",
    "              [-20, 17, 117, 70],\n",
    "              [-90, 117, 324, -252],\n",
    "              [32, 70, -252, 131]], dtype=np.double)\n",
    "A2 = A.copy()\n",
    "eig_vor = np.linalg.eig(A)[0]\n",
    "print(eig_vor)"
   ]
  },
  {
   "cell_type": "markdown",
   "id": "a0d20288",
   "metadata": {},
   "source": [
    "Mit Hilfe von `numpy` können wir überprüfen, ob sich die Eigenwerte durch die Reduktion verändert haben:"
   ]
  },
  {
   "cell_type": "code",
   "execution_count": null,
   "id": "36394176",
   "metadata": {},
   "outputs": [],
   "source": [
    "reduktion_auf_hessenberg(A)\n",
    "eig_nach = np.linalg.eig(A)[0]\n",
    "print(f'Absoluter Fehler der Eigenwerte nach Reduktion = {np.linalg.norm(eig_vor - eig_nach):6.4e}')"
   ]
  },
  {
   "cell_type": "markdown",
   "id": "17c80e23",
   "metadata": {},
   "source": [
    "**QR-Zerlegung von Hessenberg-Matrizen**\n",
    "\n",
    "Für die effiziente Berechnung der Eigenwerte müssen wir noch die QR-Zerlegung mit Householder-Matrizen für den Spezialfall von Hessenberg-Matrizen anpassen:"
   ]
  },
  {
   "cell_type": "code",
   "execution_count": null,
   "id": "ecf33731",
   "metadata": {},
   "outputs": [],
   "source": [
    "def qr_householder_fuer_hessenberg(A):\n",
    "    n, m = A.shape\n",
    "    dtype = A.dtype\n",
    "    Q = np.identity(n, dtype=dtype)\n",
    "    \n",
    "    for i in range(m - 1):\n",
    "        v = A[i: i + 2, i].copy()\n",
    "        ei = np.zeros(2, dtype=dtype)\n",
    "        ei[0] = 1.0\n",
    "        v += np.sign(A[i,i]) * np.linalg.norm(v) * ei\n",
    "        v /= np.linalg.norm(v)\n",
    "        A[i:i + 2, i:] -= 2 * np.outer(v, np.inner(v.T, A[i:i + 2, i:].T))\n",
    "        Q[:, i:i + 2] -= 2 * np.outer(np.inner(Q[:, i: i + 2], v), v)\n",
    "    return Q"
   ]
  },
  {
   "cell_type": "markdown",
   "id": "c0d960ae-36d9-4081-aadb-a638c771d74f",
   "metadata": {},
   "source": [
    "Damit sind wir nun in der Lage das QR-Verfahren nach der Reduktion auf die Hessenberggestalt zu implementieren:"
   ]
  },
  {
   "cell_type": "code",
   "execution_count": null,
   "id": "f2c8170c",
   "metadata": {},
   "outputs": [],
   "source": [
    "def eigenwerte_hessenberg_qr(A, k):\n",
    "    reduktion_auf_hessenberg(A)\n",
    "    for i in range(k):\n",
    "        Q = qr_householder_fuer_hessenberg(A)\n",
    "        A = A @ Q\n",
    "    return np.diagonal(A)"
   ]
  },
  {
   "cell_type": "markdown",
   "id": "355d46d4-caa6-4b73-aa87-9884e39d97a1",
   "metadata": {},
   "source": [
    "#### Beispiel 5.30 (Eigenwertberechnung mit Reduktion und QR-Verfahren)\n",
    "\n",
    "Angewandt auf unser obiges Beispiel, erhalten wir nach 10 Schritten die Eigenwerte"
   ]
  },
  {
   "cell_type": "code",
   "execution_count": null,
   "id": "ba1c51e8",
   "metadata": {},
   "outputs": [],
   "source": [
    "A = A2.copy()\n",
    "eig = np.linalg.eig(A)[0]\n",
    "eig_qr = eigenwerte_hessenberg_qr(A, 10)\n",
    "eig_qr = np.flip(np.sort(eig_qr))\n",
    "print(eig_qr)"
   ]
  },
  {
   "cell_type": "markdown",
   "id": "7f4f2af5-915c-4ed1-865c-99d49c7d1c90",
   "metadata": {},
   "source": [
    "Daraus ergeben sich dir relativen Fehler:"
   ]
  },
  {
   "cell_type": "code",
   "execution_count": null,
   "id": "d6e50d95",
   "metadata": {},
   "outputs": [],
   "source": [
    "print((abs(eig - eig_qr) / abs(eig)))"
   ]
  },
  {
   "cell_type": "markdown",
   "id": "0ee3a2ec-f94f-47fa-8361-d5bf3043f4df",
   "metadata": {},
   "source": [
    "Also ein maximaler relativer Fehler von ca. $1\\%$. Der Fehler für $\\lambda_3$ und $\\lambda_4$ ist größer als der für $\\lambda_1$ und $\\lambda_2$, da diese Eigenwerte weniger separiert sind."
   ]
  },
  {
   "cell_type": "code",
   "execution_count": null,
   "id": "04cc89b0",
   "metadata": {},
   "outputs": [],
   "source": []
  }
 ],
 "metadata": {
  "kernelspec": {
   "display_name": "Python 3 (ipykernel)",
   "language": "python",
   "name": "python3"
  },
  "language_info": {
   "codemirror_mode": {
    "name": "ipython",
    "version": 3
   },
   "file_extension": ".py",
   "mimetype": "text/x-python",
   "name": "python",
   "nbconvert_exporter": "python",
   "pygments_lexer": "ipython3",
   "version": "3.11.9"
  }
 },
 "nbformat": 4,
 "nbformat_minor": 5
}
