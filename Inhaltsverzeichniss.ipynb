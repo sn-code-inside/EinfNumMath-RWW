{
 "cells": [
  {
   "cell_type": "markdown",
   "id": "125c9208",
   "metadata": {},
   "source": [
    "# Python Implementierung der Algorithmen aus *\"Einführung in die Numerische Mathematik - Begriffe, Konzepte und zahlreiche Anwendungsbeispiele\"* von T. Richter, H. von Wahl und T. Wick\n",
    "\n",
    "## Kapitel 1: Einleitung\n",
    "- [1.2 Definition eines Algorithmus](1.2_Definition_eines_Algorithmus.ipynb)\n",
    "## Kapitel 3: Lineare Gleichungssysteme\n",
    "- [3.2 LR-Zerlegung](3.2_LR_Zerlegung.ipynb)\n",
    "- [3.3 Die Cholesky-Zerlegung für positiv definite Matrizen](3.3_Cholesky.ipynb)\n",
    "- [3.4 Dünnbesetzte Matrizen](3.4_Cuthill-McKee.ipynb)\n",
    "- [3.6 Nachiteration](3.6_Nachiteration.ipynb)\n",
    "- [3.7 Fixpunktverfahren zum Lösen linearer Gleichungssysteme](3.7_Fixpunkt.ipynb)\n",
    "## Kapitel 4: Orthogonalisierungsverfahren und die QR-Zerlegung\n",
    "- [4.2 Das Gram-Schmidt-Verfahren](4.2_Gram-Schmidt.ipynb)\n",
    "- [4.3 Householder-Transformationen](4.3_Householder.ipynb)\n",
    "- [4.4 Givens-Rotationen](4.4_Givens.ipynb)\n",
    "- [4.5 Überbestimmte Gleichungssysteme](4.5_Bestaproximation.ipynb)\n",
    "## Kapitel 5: Berechnung von Eigenwerten und Singulärwerten\n",
    "- [5.3 Iterative Verfahren ](5.3_Eigen_Itterativ.ipynb)\n",
    "- [5.4 Zerlegungsverfahren zur Eigenwertbestimmung](5.4_Eigen_Zerlegung.ipynb)\n",
    "- [5.5 Reduktionsmethoden ](5.5_Reduktionsmethoden.ipynb)\n",
    "## Kapitel 6: Krylowraumverfahren für lineare Gleichungssysteme und das Eigenwertproblem\n",
    "- [6.2 Das CG-Verfahren für symmetrisch positiv definite Gleichungssysteme](6.2_CG_Verfahren.ipynb)\n",
    "- [6.5 Das GMRES-Verfahren](6.5_GMRES.ipynb)\n",
    "## Kapitel 8: Nullstellenbestimmung\n",
    "- [8.1 Stabilität und Kondition](8.1_Nullstellen.ipynb)\n",
    "- [8.2 Intervallschachtelung](8.2_Intervallschachtelung.ipynb)\n",
    "- [8.3 Das Newton-Verfahren](8.3_Newton.ipynb)\n",
    "- [8.4 Nullstellensuche im $\\mathbb{R}^n$](8.4_Mehr_Newton.ipynb)\n",
    "## Kapitel 9: Interpolation und Approximation\n",
    "- [9.1 Polynominterpolation](9.1_Polynominterpolation.ipynb)\n",
    "- [9.3 Numerische Differentiation](9.3_Differentiation.ipynb)\n",
    "- [9.4 Richardson-Extrapolation zum Limes](9.4_DIfferentiation_Extrapoliert.ipynb)"
   ]
  }
 ],
 "metadata": {
  "kernelspec": {
   "display_name": "Python 3 (ipykernel)",
   "language": "python",
   "name": "python3"
  },
  "language_info": {
   "codemirror_mode": {
    "name": "ipython",
    "version": 3
   },
   "file_extension": ".py",
   "mimetype": "text/x-python",
   "name": "python",
   "nbconvert_exporter": "python",
   "pygments_lexer": "ipython3",
   "version": "3.11.9"
  }
 },
 "nbformat": 4,
 "nbformat_minor": 5
}
