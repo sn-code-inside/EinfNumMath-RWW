{
 "cells": [
  {
   "cell_type": "markdown",
   "id": "671179dd",
   "metadata": {},
   "source": [
    "### 9.1 Polynominterpolation"
   ]
  },
  {
   "cell_type": "code",
   "execution_count": null,
   "id": "a9b99608",
   "metadata": {},
   "outputs": [],
   "source": [
    "import numpy as np"
   ]
  },
  {
   "cell_type": "markdown",
   "id": "f8337d1d-fb69-4456-ab51-47bc5da346ec",
   "metadata": {},
   "source": [
    "**Implementierung 9.1: Neville-Schema**"
   ]
  },
  {
   "cell_type": "code",
   "execution_count": null,
   "id": "f84a7cac-72f0-4451-a0f2-616c951710de",
   "metadata": {},
   "outputs": [],
   "source": [
    "def neville(data, xi):\n",
    "    n = data.shape[0]\n",
    "    x = data[:, 0]\n",
    "    p = np.diag(data[:, 1])\n",
    "    \n",
    "    for j in range(1, n):\n",
    "        for k in range(n - j):\n",
    "            p[k, k + j] = p[k, k + j - 1] + (xi - x[k]) * (p[k + 1, k + j] - p[k, k + j - 1]) / (x[k + j] - x[k])\n",
    "    return p"
   ]
  },
  {
   "cell_type": "markdown",
   "id": "3fb40396-1969-4f25-bd8b-a4f5e3739876",
   "metadata": {},
   "source": [
    "#### Beispiel 9.10 (Neville-Schema)\n",
    "\n",
    "Wir wenden das Neville Schema auf die Stützpunkte\n",
    "$$\n",
    "\\{x_k,y_k\\} = \\{ (0,0), (1,1), (2,8), (3,27) \\},\n",
    "$$\n",
    "an."
   ]
  },
  {
   "cell_type": "code",
   "execution_count": null,
   "id": "b07c07b0-709b-4376-ba9d-327e72632cfe",
   "metadata": {},
   "outputs": [],
   "source": [
    "data = np.array([[0, 0],\n",
    "                 [1, 1],\n",
    "                 [2, 8],\n",
    "                 [3, 27]], dtype=np.double)"
   ]
  },
  {
   "cell_type": "code",
   "execution_count": null,
   "id": "ceb5fce1-63b9-454e-be2e-be8c493d731e",
   "metadata": {},
   "outputs": [],
   "source": [
    "p = neville(data, 0.5)\n",
    "print(p)"
   ]
  },
  {
   "cell_type": "markdown",
   "id": "a24498ed-eba5-4e1d-a440-610e9419a5f9",
   "metadata": {},
   "source": [
    "Hier haben wir die Stützwerte auf der Diagonalen und im Eintag `p[i, j]` und das Ergebnis der Auswertung des Interpolationspolynoms durch die Daten `i, i+1, ..., j`. Zum Beispiel haben wir im Eintrag `p[2, 3] = -20.5` das Ergebnis der Interpolierten durch die Punkte `data[2, :]=[2, 8]` und `data[3, :]=[3, 27]`."
   ]
  },
  {
   "cell_type": "code",
   "execution_count": null,
   "id": "eadba1d2-1f4a-48d2-9f45-2cc90e8cd1f7",
   "metadata": {},
   "outputs": [],
   "source": []
  }
 ],
 "metadata": {
  "kernelspec": {
   "display_name": "Python 3 (ipykernel)",
   "language": "python",
   "name": "python3"
  },
  "language_info": {
   "codemirror_mode": {
    "name": "ipython",
    "version": 3
   },
   "file_extension": ".py",
   "mimetype": "text/x-python",
   "name": "python",
   "nbconvert_exporter": "python",
   "pygments_lexer": "ipython3",
   "version": "3.11.9"
  }
 },
 "nbformat": 4,
 "nbformat_minor": 5
}
