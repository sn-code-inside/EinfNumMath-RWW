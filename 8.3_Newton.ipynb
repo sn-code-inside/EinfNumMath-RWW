{
 "cells": [
  {
   "cell_type": "markdown",
   "id": "a88ae9e7",
   "metadata": {},
   "source": [
    "## 8.3 Das Newton-Verfahren\n",
    "\n",
    "**Implementierung 8.2: Newton-Verfahren**\n",
    "\n",
    "Das Newton-Verfahren können wir folgendermaßen implementieren. Um dabei das Konvergenzverhalten besser studieren zu können, geben wir hier in jedem Schritt Informationen über die aktuelle Approximation der Lösung aus."
   ]
  },
  {
   "cell_type": "code",
   "execution_count": null,
   "id": "ad24e501",
   "metadata": {},
   "outputs": [],
   "source": [
    "def newton_skalar(f, f_abl, x, n=10, tol=1e-10):\n",
    "    print('it x          f(x)')\n",
    "    print(f'0 {x: .8f} {f(x): .4e}')\n",
    "    for i in range(n):\n",
    "        x -=  f(x) / f_abl(x)\n",
    "        print(f'{i + 1} {x: .8f} {f(x): .4e}')\n",
    "        if abs(f(x)) < tol:\n",
    "            print(f'Die Newton Methode ist nach {i + 1} Iterationen konvergiert')\n",
    "            return x\n",
    "    print(f'Die Newton Methode ist nach {n} Iterationen nicht konvergiert')\n",
    "    print(f'x = {x}, abs(f(x)) = {abs(f(x))} > {tol}')\n",
    "    return x"
   ]
  },
  {
   "cell_type": "markdown",
   "id": "939e9446",
   "metadata": {},
   "source": [
    "#### Beispiel 8.13\n",
    "\n",
    "Wir testen den Algorithmus anhand der Funktion\n",
    "$$f(x) = x(1 + \\exp(x)) + 10\\sin(3 + \\log(x^2 + 1)),$$\n",
    "dessen Nullstelle wir suchen. Dafür müssen wir wieder die Funktion $f$ und dessen Ableitung definieren."
   ]
  },
  {
   "cell_type": "code",
   "execution_count": null,
   "id": "924f2335",
   "metadata": {},
   "outputs": [],
   "source": [
    "from math import exp, log, cos, sin\n",
    "\n",
    "def f(x):\n",
    "    return x * (1 + exp(x)) + 10 * sin(3 + log(x**2 + 1))\n",
    "\n",
    "def fabl(x):\n",
    "    return (x**2 + 20 * x * cos(log(x**2 + 1) + 3) + 1)/(x**2 + 1) + exp(x) * (x + 1)"
   ]
  },
  {
   "cell_type": "markdown",
   "id": "efc1346b-ebea-4457-9644-4c0ed5f23a84",
   "metadata": {},
   "source": [
    "Mit dem Startwert $x_0 = 0$ ergibt dies dann"
   ]
  },
  {
   "cell_type": "code",
   "execution_count": null,
   "id": "db74624c",
   "metadata": {},
   "outputs": [],
   "source": [
    "newton_skalar(f, fabl, 0, n=10, tol=1e-12)"
   ]
  },
  {
   "cell_type": "markdown",
   "id": "99763cd5",
   "metadata": {},
   "source": [
    "Wir haben die Nullstelle also nach nur 6 Iterationsschritten identifiziert, also weniger als ein Fünftel der Schritte welche die Intervallschachtelung benötigt hat.\n",
    "\n",
    "Wenn eine Funktion mehrere Nullstellen hat, konvergiert das Newton-Verfahren bei einem anderen Startwert gegebenenfalls gegen eine andere Nullstelle:"
   ]
  },
  {
   "cell_type": "code",
   "execution_count": null,
   "id": "5e8d95a5",
   "metadata": {},
   "outputs": [],
   "source": [
    "newton_skalar(f, fabl, -10, n=10, tol=1e-12)"
   ]
  },
  {
   "cell_type": "markdown",
   "id": "990f0afd",
   "metadata": {},
   "source": [
    "Da (vor allem bei vektorwertigen Funktionen), das Invertieren der Ableitung (der Jacobi-Matrix im Höher-Dimensionalen) rechenaufwendig ist, kann es eine gute Idee sein die Abstiegsrichtung einmal fest zu wählen. Dazu passen wir unsere obige Implementierung an.\n",
    "\n",
    "**Implementierung 8.3: Vereinfachtes Newton-Verfahren**"
   ]
  },
  {
   "cell_type": "code",
   "execution_count": null,
   "id": "49c69a15",
   "metadata": {},
   "outputs": [],
   "source": [
    "def newton_vereinfacht_skalar(f, f_abl, x, c, n=10, tol=1e-10):\n",
    "    f_abl_x_inv =  1 / f_abl(c)\n",
    "    \n",
    "    print('it x           f(x)')\n",
    "    print(f'0 {x: .8f} {f(x): .4e}')\n",
    "    for i in range(n):\n",
    "        fx_alt = f(x)\n",
    "        x -=  f_abl_x_inv * f(x) \n",
    "        print(f'{i + 1:02d} {x: .8f} {f(x): .4e}')\n",
    "        if abs(f(x)) < tol:\n",
    "            print(f'Die vereinfachte Newton-Methode ist nach {i + 1} Iterationen konvergiert')\n",
    "            return x\n",
    "    print(f'Die Newton-Methode ist nach {n} Iterationen nicht konvergiert')\n",
    "    print(f'x = {x}, abs(f(x)) = {abs(f(x))} > {tol}')\n",
    "    return x"
   ]
  },
  {
   "cell_type": "markdown",
   "id": "fefd9e1d",
   "metadata": {},
   "source": [
    "#### Beispiel 8.22 (Vereinfachtes Newton-Verfahren)\n",
    "\n",
    "Angewandt auf das vorherige Beispiel mit $c=x_0$ und der größeren Toleranz $\\epsilon=10^{-7}$ ergibt dies dann"
   ]
  },
  {
   "cell_type": "code",
   "execution_count": null,
   "id": "73769aa4",
   "metadata": {},
   "outputs": [],
   "source": [
    "newton_vereinfacht_skalar(f, fabl, -10, -10, n=50, tol=1e-7)"
   ]
  },
  {
   "cell_type": "markdown",
   "id": "bafc7063",
   "metadata": {},
   "source": [
    "Das Verfahren konvergiert also nur recht langsam. Bei einer geschickter Wahl der Stelle der Ableitung, kann die Methode auch etwas schneller konvergieren. Wenn Sie die Stelle aber falsch setzen, konvergiert das Verfahren gegebenenfalls auch gar nicht. Probieren Sie es aus!"
   ]
  },
  {
   "cell_type": "code",
   "execution_count": null,
   "id": "b1dd15f1",
   "metadata": {},
   "outputs": [],
   "source": [
    "newton_vereinfacht_skalar(f, fabl, -10, -9.344, n=50, tol=1e-7)"
   ]
  },
  {
   "cell_type": "markdown",
   "id": "ea4ab20c",
   "metadata": {},
   "source": [
    "Statt die Abstiegsrichtung fest zu wählen, können wir auch die Ableitung numerisch approximieren.\n",
    "\n",
    "**Implementierung 8.4: Approximiertes Newton-Verfahren**:"
   ]
  },
  {
   "cell_type": "code",
   "execution_count": null,
   "id": "6b255939",
   "metadata": {},
   "outputs": [],
   "source": [
    "def newton_approx_skalar(f, x, eps, n=10, tol=1e-10):\n",
    "    print('it x          f(x)')\n",
    "    print(f'0 {x: .8f} {f(x): .4e}')\n",
    "    for i in range(n):\n",
    "        y = f(x)\n",
    "        z = f(x + eps)\n",
    "        x -=  eps * y / (z - y)\n",
    "        print(f'{i + 1} {x: .8f} {f(x): .4e}')\n",
    "        if abs(f(x)) < tol:\n",
    "            print(f'Die approximierte Newton-Methode ist nach {i + 1} Iterationen konvergiert')\n",
    "            return x\n",
    "    print(f'Die approximierte Newton-Methode ist nach {n} Iterationen nicht konvergiert')\n",
    "    print(f'x = {x}, abs(f(x)) = {abs(f(x))} > {tol}')\n",
    "    return x"
   ]
  },
  {
   "cell_type": "markdown",
   "id": "944efe3d-fef4-446c-b681-724ff52b5602",
   "metadata": {},
   "source": [
    "#### Beispiel 8.23 (Approximiertes Newton-Verfahren)\n",
    "\n",
    "Hier hängt die Konvergenz des Verfahrens an der korrekten Wahl von $\\epsilon$ in der finite Differenzen Approximation ab: "
   ]
  },
  {
   "cell_type": "code",
   "execution_count": null,
   "id": "fa916474",
   "metadata": {},
   "outputs": [],
   "source": [
    "for eps in [1e-1, 1e-2, 1e-4, 1e-8, 1e-12, 2e-14]:\n",
    "    print('\\n------------------------')\n",
    "    print(f'eps = {eps}\\n')\n",
    "    newton_approx_skalar(f, -10, eps, n=10, tol=1e-10)"
   ]
  },
  {
   "cell_type": "markdown",
   "id": "8194d25f",
   "metadata": {},
   "source": [
    "Abschließend betrachten wir noch zwei weitere, aber eher wenig verbreitete Verfahren zur Bestimmung von Nullstellen.\n",
    "\n",
    "**Algorithmus 7.8: Sekantenverfahren**"
   ]
  },
  {
   "cell_type": "code",
   "execution_count": null,
   "id": "1cfc1630",
   "metadata": {},
   "outputs": [],
   "source": [
    "def sekantenverfahren(f, x0, x1, n=10, tol=1e-12):\n",
    "    f0 = f(x0)\n",
    "    for i in range(n):\n",
    "        f1 = f(x1)\n",
    "        if abs(f1) < tol:\n",
    "            print(f'Das Sekantenverfahren ist nach {i + 1} Iterationen konvergiert')\n",
    "            return x1\n",
    "        \n",
    "        x2 = x1 - f1 * (x1 - x0) / (f1 - f0)\n",
    "        x0, f0 = x1, f1\n",
    "        x1 = x2\n",
    "    print(f'Das Sekantenverfahren ist nach {n} Iterationen nicht konvergiert')\n",
    "    print(f'x = {x1}, abs(f(x)) = {abs(f1)} > {tol}')\n",
    "    return x1"
   ]
  },
  {
   "cell_type": "markdown",
   "id": "aa2be5ed-57b3-4b32-821a-70f50f0c3dae",
   "metadata": {},
   "source": [
    "Angewandt auf unser bekanntes Beispiel ergibt dies mit $x_0=-10$ und $x_1=-9$"
   ]
  },
  {
   "cell_type": "code",
   "execution_count": null,
   "id": "8886461c",
   "metadata": {},
   "outputs": [],
   "source": [
    "sekantenverfahren(f, -10, -9, n=10, tol=1e-12)"
   ]
  },
  {
   "cell_type": "markdown",
   "id": "27ade381",
   "metadata": {},
   "source": [
    "**Algorithmus 7.9: Regula falsi**"
   ]
  },
  {
   "cell_type": "code",
   "execution_count": null,
   "id": "ad0c8bcf",
   "metadata": {},
   "outputs": [],
   "source": [
    "def regula_falsi(f, x0, x1, n=10, tol=1e-12):\n",
    "    f0 = f(x0)\n",
    "    f1 = f(x1)\n",
    "    for i in range(n):\n",
    "        \n",
    "        if abs(f1) < tol:\n",
    "            print(f'Die Regula falsi-Methode ist nach {i + 1} Iterationen konvergiert')\n",
    "            return x1\n",
    "        \n",
    "        x2 = x1 - f1 * (x1 - x0) / (f1 - f0)\n",
    "        f2 = f(x2)\n",
    "        if f2 * f1 < 0:\n",
    "            x0, f0 = x1, f1\n",
    "            x1, f1 = x2, f2\n",
    "        else:\n",
    "            x1, f1 = x2, f2\n",
    "    print(f'Die Regula falsi-Methode ist nach {n} Iterationen nicht konvergiert')\n",
    "    print(f'x = {x1}, abs(f(x)) = {abs(f1)} > {tol}')\n",
    "    return x1"
   ]
  },
  {
   "cell_type": "markdown",
   "id": "22fbce03-04ee-4353-92e3-f9aaee0c879c",
   "metadata": {},
   "source": [
    "Mit denselben Parametern wie für die Sekantenmethode erhalten wir dann"
   ]
  },
  {
   "cell_type": "code",
   "execution_count": null,
   "id": "f685151a",
   "metadata": {},
   "outputs": [],
   "source": [
    "regula_falsi(f, -10, -9, n=50, tol=1e-12)"
   ]
  },
  {
   "cell_type": "markdown",
   "id": "5c34d4a2-b594-44de-a176-4ef2cdf3a253",
   "metadata": {},
   "source": [
    "Wir sehen also, dass die schnelle Konvergenzgeschwindigkeit der Sekantenmethode in der Tat verloren gegangen ist."
   ]
  }
 ],
 "metadata": {
  "kernelspec": {
   "display_name": "Python 3 (ipykernel)",
   "language": "python",
   "name": "python3"
  },
  "language_info": {
   "codemirror_mode": {
    "name": "ipython",
    "version": 3
   },
   "file_extension": ".py",
   "mimetype": "text/x-python",
   "name": "python",
   "nbconvert_exporter": "python",
   "pygments_lexer": "ipython3",
   "version": "3.11.9"
  }
 },
 "nbformat": 4,
 "nbformat_minor": 5
}
