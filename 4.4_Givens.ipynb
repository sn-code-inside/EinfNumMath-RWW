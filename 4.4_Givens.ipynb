{
 "cells": [
  {
   "cell_type": "markdown",
   "id": "982d1cb7",
   "metadata": {},
   "source": [
    "## 4.4 Givens-Rotationen"
   ]
  },
  {
   "cell_type": "code",
   "execution_count": null,
   "id": "96c15af2",
   "metadata": {},
   "outputs": [],
   "source": [
    "import numpy as np\n",
    "from scripts.LR_Zerlegung import rueckwaerts_einsetzen"
   ]
  },
  {
   "cell_type": "markdown",
   "id": "846bb685-103c-4307-9c5a-e7064ab4926c",
   "metadata": {},
   "source": [
    "Wir implementieren die QR-Zerlegung mithilfe von Givens-Rotationen. Dabei wird die Matrix $A$ durch die Matrix $R$ überschrieben und wir erhalten als zusätzlichen Ergebnis die Matrix $Q^T$."
   ]
  },
  {
   "cell_type": "code",
   "execution_count": null,
   "id": "63ea2edd",
   "metadata": {},
   "outputs": [],
   "source": [
    "def qr_givens(A):\n",
    "    n, m = A.shape\n",
    "    QT = np.identity(n, dtype=A.dtype)\n",
    "    \n",
    "    for i in range(m):\n",
    "        for j in range(i + 1, n):\n",
    "            c, s = A[i, i], -A[j, i]\n",
    "            nrm = np.sqrt(c**2 + s**2)\n",
    "            c, s = c / nrm, s / nrm\n",
    "            for k in range(i, m):\n",
    "                t1, t2 = A[i, k], A[j, k]\n",
    "                A[i, k] = c * t1 - s * t2\n",
    "                A[j, k] = s * t1 + c * t2\n",
    "            for k in range(n):\n",
    "                t1, t2 = QT[i, k], QT[j, k]\n",
    "                QT[i, k] = c * t1 - s * t2\n",
    "                QT[j, k] = s * t1 + c * t2\n",
    "    return QT"
   ]
  },
  {
   "cell_type": "markdown",
   "id": "0b125488-fe93-49a8-b545-c3b051396be5",
   "metadata": {},
   "source": [
    "#### Beispiel 4.20 (QR-Zerlegung nach Givens)\n",
    "\n",
    "Wenden wir dies nun auf unser bekanntes Gleichungssystem an."
   ]
  },
  {
   "cell_type": "code",
   "execution_count": null,
   "id": "65180752",
   "metadata": {},
   "outputs": [],
   "source": [
    "A = np.array([[1,    1,    1   ],\n",
    "              [0.01, 0,    0.01],\n",
    "              [0,    0.01, 0.01]], dtype=np.half)\n",
    "A2 = A.astype(np.single)\n",
    "b = np.array([1, 0, 0.02], dtype=np.half)\n",
    "x_ex = np.array([-1, 1, 1])\n",
    "\n",
    "QT = qr_givens(A)\n",
    "print(QT)"
   ]
  },
  {
   "cell_type": "code",
   "execution_count": null,
   "id": "b8fcc7f3-97a0-4b0e-8e63-15e8847235f7",
   "metadata": {},
   "outputs": [],
   "source": [
    "np.linalg.norm(QT @ QT.T - np.eye(3, dtype=np.single), 2)"
   ]
  },
  {
   "cell_type": "code",
   "execution_count": null,
   "id": "c933a5c1-fc32-4713-8621-3adf56007dd8",
   "metadata": {},
   "outputs": [],
   "source": [
    "QTb = np.dot(QT, b)\n",
    "x = rueckwaerts_einsetzen(A, QTb)\n",
    "print(x)"
   ]
  },
  {
   "cell_type": "markdown",
   "id": "4e925c74-1fc8-4857-9f0e-cb80a5c14d4a",
   "metadata": {},
   "source": [
    "Dies ist nahe an der exakten Lösung $x=(-1, 1, 1)^T$, insbesondere wenn wir berücksichtigen, dass bei `half` Gleitkommadarstellung, die Maschinengenauigkeit etwa bei $\\epsilon\\approx 4 \\times 10^{-4}$ liegt."
   ]
  },
  {
   "cell_type": "code",
   "execution_count": null,
   "id": "aeadbe65-9de7-4613-8a3b-5e7a8c97fb87",
   "metadata": {},
   "outputs": [],
   "source": [
    "err = np.linalg.norm(x - x_ex) / np.linalg.norm(x_ex)\n",
    "print(f'||x - x_ex|| / ||x|| = {err}')"
   ]
  },
  {
   "cell_type": "markdown",
   "id": "4dc62618-9142-4422-b82f-e67f17201c4b",
   "metadata": {},
   "source": [
    "Der relative 2-Norm Fehler ist also in etwa Maschinengenauigkeit (bei `half` Gleitkommazahlen). Ähnliches beobachten wir, wenn wir $Q$ und $R$ mit einander multiplizieren und die Orthogonalität von $Q$ testen:"
   ]
  },
  {
   "cell_type": "code",
   "execution_count": null,
   "id": "4dfc2585",
   "metadata": {},
   "outputs": [],
   "source": [
    "err = np.linalg.norm(A2 - QT.transpose() @ A, ord=2) / np.linalg.norm(A2, ord=2)\n",
    "print(f'||A - QR||_2 / ||A||_2 = {err}')"
   ]
  },
  {
   "cell_type": "code",
   "execution_count": null,
   "id": "34eb0dcb",
   "metadata": {},
   "outputs": [],
   "source": [
    "Id = np.identity(QT.shape[0], dtype=np.single)\n",
    "err = np.linalg.norm(Id - QT @ QT.T, ord=2)\n",
    "print(f'||I - Q*Q^T||_2 = {err}')"
   ]
  },
  {
   "cell_type": "markdown",
   "id": "dead6b55-e29f-4ba1-816f-007080c78045",
   "metadata": {},
   "source": [
    "*Ergänzende Einzelheiten zum Code*\n",
    "- `A2` und `Id` sind als `single` gespeichert, damit wir die 2-Norm berechnen können.`"
   ]
  }
 ],
 "metadata": {
  "kernelspec": {
   "display_name": "Python 3 (ipykernel)",
   "language": "python",
   "name": "python3"
  },
  "language_info": {
   "codemirror_mode": {
    "name": "ipython",
    "version": 3
   },
   "file_extension": ".py",
   "mimetype": "text/x-python",
   "name": "python",
   "nbconvert_exporter": "python",
   "pygments_lexer": "ipython3",
   "version": "3.11.9"
  }
 },
 "nbformat": 4,
 "nbformat_minor": 5
}
