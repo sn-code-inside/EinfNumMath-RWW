{
 "cells": [
  {
   "cell_type": "markdown",
   "id": "c70f4b82",
   "metadata": {},
   "source": [
    "## 4.5 Überbestimmte Gleichungssysteme"
   ]
  },
  {
   "cell_type": "markdown",
   "id": "1b2b0327",
   "metadata": {},
   "source": [
    "Hier verwenden wir unsere bekannte QR-Zerlegung anhand von Householder-Transformationen, da diese bereits den nicht-quadratischen Fall abdeckt."
   ]
  },
  {
   "cell_type": "code",
   "execution_count": null,
   "id": "880b1963",
   "metadata": {},
   "outputs": [],
   "source": [
    "import numpy as np\n",
    "from scripts.LR_Zerlegung import rueckwaerts_einsetzen\n",
    "from scripts.Cholesky import vorwaerts_einsetzen, cholesky"
   ]
  },
  {
   "cell_type": "markdown",
   "id": "2c9b1b5b-2ad3-4388-a3d6-f00b12c9f7c0",
   "metadata": {},
   "source": [
    "#### Beispiel 4.27 (Bestapproximation eines überbestimmten Gleichungssystems mit erweiterter QR-Zerlegung)\n",
    "\n",
    "Wir betrachten das überbestimmte Gleichungssystem $Ax = b$ mit\n",
    "$$\n",
    "A = \\begin{pmatrix}\n",
    "  1 & -\\frac{1}{4} & \\frac{1}{16} \\\\\n",
    "  1 & \\frac{1}{2} & \\frac{1}{4} \\\\\n",
    "  1 & 2 & 4 \\\\\n",
    "  1 & \\frac{5}{2} &\\frac{25}{4} \n",
    "\\end{pmatrix},\\quad b=\\begin{pmatrix} 0 \\\\1 \\\\ 0 \\\\ 1\n",
    "\\end{pmatrix}.\n",
    "$$"
   ]
  },
  {
   "cell_type": "code",
   "execution_count": null,
   "id": "14368300",
   "metadata": {},
   "outputs": [],
   "source": [
    "A = np.array([[1, -1 / 4, 1 / 16],\n",
    "              [1, 1 / 2,  1 / 4],\n",
    "              [1, 2,      4],\n",
    "              [1, 5 / 2,  25 / 4]], dtype=np.half)\n",
    "b = np.array([0, 1, 0, 1], dtype=np.half)\n",
    "A2 = A.copy()"
   ]
  },
  {
   "cell_type": "markdown",
   "id": "aa48ef44",
   "metadata": {},
   "source": [
    "Zunächst stellen wir das Normalensystem $A^T A = A^T b$ dazu auf"
   ]
  },
  {
   "cell_type": "code",
   "execution_count": null,
   "id": "4e6c32e7",
   "metadata": {},
   "outputs": [],
   "source": [
    "ATA = A.transpose() @ A\n",
    "ATb = np.inner(A.transpose(), b)"
   ]
  },
  {
   "cell_type": "markdown",
   "id": "f6f5724c",
   "metadata": {},
   "source": [
    "Und Lösen dies mit unserer Cholesky-Zerlegung"
   ]
  },
  {
   "cell_type": "code",
   "execution_count": null,
   "id": "ba10e5e3",
   "metadata": {},
   "outputs": [],
   "source": [
    "L = cholesky(ATA)\n",
    "y = vorwaerts_einsetzen(L, ATb)\n",
    "x_L = rueckwaerts_einsetzen(L.transpose(), y)\n",
    "print(x_L)"
   ]
  },
  {
   "cell_type": "markdown",
   "id": "c767cfcf",
   "metadata": {},
   "source": [
    "Hieraus ergibt sich der Defekt"
   ]
  },
  {
   "cell_type": "code",
   "execution_count": null,
   "id": "24ad38ae",
   "metadata": {},
   "outputs": [],
   "source": [
    "print('||Ax - b|| = ', np.linalg.norm(np.inner(A, x_L) - b))"
   ]
  },
  {
   "cell_type": "markdown",
   "id": "88dfddc7",
   "metadata": {},
   "source": [
    "Jetzt lösen wir das System nochmal anhand der QR-Zerlegung nach Householder. Da wir hierfür die modifizierte rechte Seite $\\tilde{b}$ benötigen, müssen wir dies noch implementieren."
   ]
  },
  {
   "cell_type": "code",
   "execution_count": null,
   "id": "73ddec61",
   "metadata": {},
   "outputs": [],
   "source": [
    "from scripts.Householder import qr_householder\n",
    "\n",
    "def b_tilde(V, b):\n",
    "    bt = b.copy()\n",
    "    m = A.shape[1]\n",
    "    for i in range(m):\n",
    "        bt[i:] -= 2 * np.inner(V[i:, i], bt[i:]) * V[i:, i]\n",
    "    return np.array(bt[:m])"
   ]
  },
  {
   "cell_type": "markdown",
   "id": "7f5ca0c2-aa79-46c7-8f15-99dfcb6968ee",
   "metadata": {},
   "source": [
    "Damit erhalten wir, bei der Verwendung von `half` Gleitkommazahlen, die Lösung"
   ]
  },
  {
   "cell_type": "code",
   "execution_count": null,
   "id": "e3a19764",
   "metadata": {},
   "outputs": [],
   "source": [
    "A = np.array([[1, -1 / 4, 1 / 16],\n",
    "              [1, 1 / 2,  1 / 4],\n",
    "              [1, 2,      4],\n",
    "              [1, 5 / 2,  25 / 4]], dtype=np.half)\n",
    "b = np.array([0, 1, 0, 1], dtype=np.half)\n",
    "\n",
    "V = qr_householder(A)\n",
    "bt = b_tilde(V, b)\n",
    "x_h = rueckwaerts_einsetzen(A[:V.shape[1],:], bt)\n",
    "print(f'x = {x_h}')"
   ]
  },
  {
   "cell_type": "code",
   "execution_count": null,
   "id": "231c2a61",
   "metadata": {},
   "outputs": [],
   "source": [
    "print('||Ax - b|| = ', np.linalg.norm(np.inner(A2, x_h) - b))"
   ]
  },
  {
   "cell_type": "markdown",
   "id": "54cc7752",
   "metadata": {},
   "source": [
    "Dabei haben wir jetzt folgenden Unterschied zu der Lösung der Normalengleichung"
   ]
  },
  {
   "cell_type": "code",
   "execution_count": null,
   "id": "1a94b146",
   "metadata": {},
   "outputs": [],
   "source": [
    "print(np.linalg.norm(x_h - x_L))"
   ]
  },
  {
   "cell_type": "markdown",
   "id": "3c0017ad",
   "metadata": {},
   "source": [
    "Ähnlich können wir die QR-Zerlegung mit Givens-Rotationen angehen"
   ]
  },
  {
   "cell_type": "code",
   "execution_count": null,
   "id": "f764b8f7",
   "metadata": {},
   "outputs": [],
   "source": [
    "from scripts.Givens import qr_givens\n",
    "\n",
    "A = np.array([[1, -1 / 4, 1 / 16],\n",
    "              [1, 1 / 2,  1 / 4],\n",
    "              [1, 2,      4],\n",
    "              [1, 5 / 2,  25 / 4]], dtype=np.half)\n",
    "b = np.array([0, 1, 0, 1], dtype=np.half)\n",
    "\n",
    "QT = qr_givens(A)\n",
    "bt = np.dot(QT, b)[:A.shape[1]]\n",
    "x_g = rueckwaerts_einsetzen(A[:A.shape[1],:], bt)\n",
    "print(f'x = {x_g}')"
   ]
  },
  {
   "cell_type": "markdown",
   "id": "f752b867-7efb-496f-b9c2-2787026bb012",
   "metadata": {},
   "source": [
    "Daraus ergibt sich der Defekt"
   ]
  },
  {
   "cell_type": "code",
   "execution_count": null,
   "id": "c7e8ff43",
   "metadata": {},
   "outputs": [],
   "source": [
    "print('||Ax - b|| = ', np.linalg.norm(np.inner(A2, x_g) - b))"
   ]
  },
  {
   "cell_type": "markdown",
   "id": "68ffc773-0881-47d0-ae48-b0f5229bdba1",
   "metadata": {},
   "source": [
    "und der Unterschied zur Lösung mithilfe der QR-Zerlegung mit Householder-Transformationen"
   ]
  },
  {
   "cell_type": "code",
   "execution_count": null,
   "id": "f2f1e9db",
   "metadata": {},
   "outputs": [],
   "source": [
    "print(np.linalg.norm(x_h - x_g))"
   ]
  }
 ],
 "metadata": {
  "kernelspec": {
   "display_name": "Python 3 (ipykernel)",
   "language": "python",
   "name": "python3"
  },
  "language_info": {
   "codemirror_mode": {
    "name": "ipython",
    "version": 3
   },
   "file_extension": ".py",
   "mimetype": "text/x-python",
   "name": "python",
   "nbconvert_exporter": "python",
   "pygments_lexer": "ipython3",
   "version": "3.11.9"
  }
 },
 "nbformat": 4,
 "nbformat_minor": 5
}
