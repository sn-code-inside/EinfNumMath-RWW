{
 "cells": [
  {
   "cell_type": "markdown",
   "id": "0e1cd877",
   "metadata": {},
   "source": [
    "### 9.4 Richardson-Extrapolation zum Limes"
   ]
  },
  {
   "cell_type": "code",
   "execution_count": null,
   "id": "a1b7c638",
   "metadata": {},
   "outputs": [],
   "source": [
    "import numpy as np\n",
    "from scripts.Interpolation import neville, differenz_einseitig_1, differenz_zentral_1, differenz_zentral_2"
   ]
  },
  {
   "cell_type": "markdown",
   "id": "0bd0614f-79e6-4906-9fe2-313230f52757",
   "metadata": {},
   "source": [
    "#### Beispiel 9.26 (Extrapolation des einseitigen Differenzenquotienten)\n",
    "\n",
    "Es sei $f(x)=\\tanh(x)$. Wir wollen die Ableitung von $f$ an der Stelle $x_0=1/2$ auswerten. Der exakte Wert ist $f'(1/2) \\approx 0.786448$. Hierzu nehmen wir den einseitigen Differenzenquotienten und werten diesen zu den Schrittweiten $h=2^{-1}, 2^{-2}, 2^{-3}, 2^{-4}$\n",
    "aus:"
   ]
  },
  {
   "cell_type": "code",
   "execution_count": null,
   "id": "4494f7f8-e5ca-4911-80e3-2a05ee98a451",
   "metadata": {},
   "outputs": [],
   "source": [
    "data = [[0.5**i, differenz_einseitig_1(np.tanh, 0.5, 0.5**i)] for i in range(1, 5)]\n",
    "data = np.array(data)\n",
    "print(data)"
   ]
  },
  {
   "cell_type": "markdown",
   "id": "46c6b20a-299f-46c4-892a-0b97d7634f89",
   "metadata": {},
   "source": [
    "Formal können wir nun ein Interpolationspolynom $p(h)$ durch die Punkte $h_i=2^{-i}$ und $a_i=a(h_i)$ legen und dieses an der Stelle $h=0$ auswerten. Dies geschieht effizient mit dem Neville-Schema zum Punkt $h=0$:"
   ]
  },
  {
   "cell_type": "code",
   "execution_count": null,
   "id": "a2730f8c-87b2-45aa-9354-e8a252e70244",
   "metadata": {},
   "outputs": [],
   "source": [
    "vals = neville(data, 0)\n",
    "print(vals)"
   ]
  },
  {
   "cell_type": "markdown",
   "id": "52eb3ef1-ec5d-40c0-bd71-241e4b897bb3",
   "metadata": {},
   "source": [
    "Damit ergeben sich die Fehler"
   ]
  },
  {
   "cell_type": "code",
   "execution_count": null,
   "id": "d513e2f6-3dbb-4008-a90d-69c4bc2dca6d",
   "metadata": {},
   "outputs": [],
   "source": [
    "print(np.triu(vals - 1 / np.cosh(0.5)**2))"
   ]
  },
  {
   "cell_type": "markdown",
   "id": "56670251-4bdb-4074-be45-f3221cc95a40",
   "metadata": {},
   "source": [
    "Durch Extrapolation kann die Genauigkeit also wirklich verbessert werden.\n",
    "\n",
    "#### Beispiel 9.28 (Extrapolation des zentralen Differenzenquotienten)\n",
    "Wir wiederholen das vorherige Beispiel mit dem zentralen Differenzenquotienten"
   ]
  },
  {
   "cell_type": "code",
   "execution_count": null,
   "id": "cbeb740f-b1b3-4911-82e1-226cbc10cfde",
   "metadata": {},
   "outputs": [],
   "source": [
    "data = [[0.5**i, differenz_zentral_1(np.tanh, 0.5, 0.5**i)] for i in range(1, 5)]\n",
    "data = np.array(data)\n",
    "print(data)"
   ]
  },
  {
   "cell_type": "code",
   "execution_count": null,
   "id": "dda6d66f-110e-48e5-80b2-b3196f073116",
   "metadata": {},
   "outputs": [],
   "source": [
    "vals = neville(data, 0)\n",
    "print(vals)"
   ]
  },
  {
   "cell_type": "markdown",
   "id": "79e73b23-b0d7-494c-b344-d2998dc4f035",
   "metadata": {},
   "source": [
    "Damit ergeben sich die Fehler"
   ]
  },
  {
   "cell_type": "code",
   "execution_count": null,
   "id": "ef8c602a-c713-4392-8e41-a92a3b1cf471",
   "metadata": {},
   "outputs": [],
   "source": [
    "print(np.triu(vals - 1 / np.cosh(0.5)**2))"
   ]
  },
  {
   "cell_type": "markdown",
   "id": "61b987b1-b47d-4564-abbc-651db4b8445b",
   "metadata": {},
   "source": [
    "Das modifizierte Neville-Schema zur Richardson-Extrapolation implementieren wir mit"
   ]
  },
  {
   "cell_type": "code",
   "execution_count": null,
   "id": "032ebb5c-e21a-4b04-9f6c-114226e79aee",
   "metadata": {},
   "outputs": [],
   "source": [
    "def extrapolate(data, q):\n",
    "    n = data.shape[0]\n",
    "    h = data[:, 0]\n",
    "    a = np.zeros((n, n))\n",
    "    a[:, 0] = data[:, 1]\n",
    "    \n",
    "    for i in range(1, n):\n",
    "        for k in range(1, i + 1):\n",
    "            a[i, k] = a[i, k - 1] + (a[i, k - 1] - a[i - 1, k - 1]) / ((h[i - k] / h[i])**q - 1)\n",
    "    return a"
   ]
  },
  {
   "cell_type": "markdown",
   "id": "3e98f72d-45b3-424b-b25a-33764d3e123c",
   "metadata": {},
   "source": [
    "#### Beispiel 9.31 (Extrapolation des zentralen Differenzenquotienten)\n",
    "Wir wenden nun die Richardson-Extrapolation auf den zentralen Differenzenquotienten mit Ordnung $q=2$ an. "
   ]
  },
  {
   "cell_type": "code",
   "execution_count": null,
   "id": "4aa070a7-17fc-4cab-a08c-34eedda097db",
   "metadata": {},
   "outputs": [],
   "source": [
    "vals = extrapolate(data, 2)\n",
    "print(vals)"
   ]
  },
  {
   "cell_type": "markdown",
   "id": "a778485b-1f90-4f0f-ae20-8069d487dbe9",
   "metadata": {},
   "source": [
    "Damit ergeben sich die Fehler"
   ]
  },
  {
   "cell_type": "code",
   "execution_count": null,
   "id": "9d55edcf-39a8-45d8-8ca3-2ddd521b16ba",
   "metadata": {},
   "outputs": [],
   "source": [
    "print(np.tril(vals - 1 / np.cosh(0.5)**2))"
   ]
  },
  {
   "cell_type": "markdown",
   "id": "08342431-afa5-4920-bec8-ffd5d4c81837",
   "metadata": {},
   "source": [
    "#### Beispiel 9.32 (Extrapolation mit verschiedenen Fehlerordnungen) \n",
    "Wir betrachten nun $$f(x) = -e^{1-\\cos(\\pi x)}$$ und approximieren $f''(1)$ mit dem zentralen Differenzenquotienten."
   ]
  },
  {
   "cell_type": "code",
   "execution_count": null,
   "id": "01a3d8c3-a0de-4715-9a69-36e16cf01eba",
   "metadata": {},
   "outputs": [],
   "source": [
    "data = [[0.5**i, differenz_zentral_2(lambda x: - np.exp(1 - np.cos(np.pi * x)), 1, 0.5**i)]\n",
    "        for i in range(8)]\n",
    "f2_ex = np.pi**2 * np.exp(2)\n",
    "data = np.array(data)\n",
    "print(data)"
   ]
  },
  {
   "cell_type": "markdown",
   "id": "83ed02ac-0fd3-4c03-9eb7-56ba1d4185ab",
   "metadata": {},
   "source": [
    "Wenden wir eine einfache lineare Extrapolation darauf an, erhalten wir"
   ]
  },
  {
   "cell_type": "code",
   "execution_count": null,
   "id": "8eedbaf0-6fda-43b1-9479-9d8dcd259cd6",
   "metadata": {},
   "outputs": [],
   "source": [
    "vals = extrapolate(data, 1)[:,:3]\n",
    "print(vals)"
   ]
  },
  {
   "cell_type": "markdown",
   "id": "d71a79c1-65d2-4e18-a937-3cd555981ee0",
   "metadata": {},
   "source": [
    "Wir sehen, dass der erste Schritt der Extrapolation die Konvergenzordnung nicht verbessert:"
   ]
  },
  {
   "cell_type": "code",
   "execution_count": null,
   "id": "9c67fd2d-e643-45bc-aaa4-53281c76e4e2",
   "metadata": {},
   "outputs": [],
   "source": [
    "err = np.abs(np.tril(vals - f2_ex))\n",
    "out = np.zeros((err.shape[0], 6))\n",
    "out[:, 0] = err[:, 0]\n",
    "out[:, 2] = err[:, 1]\n",
    "out[:, 4] = err[:, 2]\n",
    "for j in range(3):\n",
    "    for i in range(1 + j, err.shape[0]):\n",
    "        out[i, 2 * j + 1] = (np.log(err[i - 1][j]) - np.log(err[i][j])) / np.log(2)\n",
    "print(out.astype(np.half))"
   ]
  },
  {
   "cell_type": "markdown",
   "id": "7ce092f0-a5ff-4509-af25-ea89d710fe94",
   "metadata": {},
   "source": [
    "Wenden wir allerdings die richtige quadratische Extrapolation an"
   ]
  },
  {
   "cell_type": "code",
   "execution_count": null,
   "id": "efbe8eab-0b58-4d30-a841-32fe5e1e8d42",
   "metadata": {},
   "outputs": [],
   "source": [
    "vals = extrapolate(data, 2)[:,:3]\n",
    "print(vals)"
   ]
  },
  {
   "cell_type": "markdown",
   "id": "e924f898-0cdb-41cb-a80f-ddbbf89e4cb1",
   "metadata": {},
   "source": [
    "Wir sehen, dass wir nach einem Extrapolationsschritt bereits Konvergenz vierter Ordnun erhalten und mit zwei Schritten Konvergenz sechster Ordnung erreichen."
   ]
  },
  {
   "cell_type": "code",
   "execution_count": null,
   "id": "17e20ca3-bc01-49af-8aea-f3d03b268eb1",
   "metadata": {},
   "outputs": [],
   "source": [
    "err = np.abs(np.tril(vals - f2_ex))\n",
    "out = np.zeros((err.shape[0], 6))\n",
    "out[:, 0] = err[:, 0]\n",
    "out[:, 2] = err[:, 1]\n",
    "out[:, 4] = err[:, 2]\n",
    "for j in range(3):\n",
    "    for i in range(1 + j, err.shape[0]):\n",
    "        out[i, 2 * j + 1] = (np.log(err[i - 1][j]) - np.log(err[i][j])) / np.log(2)\n",
    "print(out.astype(np.half))"
   ]
  },
  {
   "cell_type": "code",
   "execution_count": null,
   "id": "6123029a-53df-4819-93fe-42d6c22f1b08",
   "metadata": {},
   "outputs": [],
   "source": []
  }
 ],
 "metadata": {
  "kernelspec": {
   "display_name": "Python 3 (ipykernel)",
   "language": "python",
   "name": "python3"
  },
  "language_info": {
   "codemirror_mode": {
    "name": "ipython",
    "version": 3
   },
   "file_extension": ".py",
   "mimetype": "text/x-python",
   "name": "python",
   "nbconvert_exporter": "python",
   "pygments_lexer": "ipython3",
   "version": "3.11.9"
  }
 },
 "nbformat": 4,
 "nbformat_minor": 5
}
