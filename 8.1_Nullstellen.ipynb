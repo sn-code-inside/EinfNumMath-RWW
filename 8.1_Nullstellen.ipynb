{
 "cells": [
  {
   "cell_type": "markdown",
   "id": "e29f5bc4",
   "metadata": {},
   "source": [
    "## 8.1 Stabilität und Kondition"
   ]
  },
  {
   "cell_type": "markdown",
   "id": "8ee24883",
   "metadata": {},
   "source": [
    "Um den Effekt von Rundungsfehlern auf die Stabilität der p-q-Formel zu verdeutlichen, wollen wir mit nur drei signifikanten Stellen rechnen. Dazu verwenden wir folgende Hilfsfunktion:"
   ]
  },
  {
   "cell_type": "code",
   "execution_count": null,
   "id": "e9d6573d-73cd-48b2-a2be-8de7ad4055c2",
   "metadata": {},
   "outputs": [],
   "source": [
    "def drei_stellen(x, abschneiden=False):\n",
    "    if abschneiden:\n",
    "        return float(f'{x:5.3e}')\n",
    "    else:\n",
    "        return x"
   ]
  },
  {
   "cell_type": "markdown",
   "id": "192f6705-357a-4957-a9d8-bb704714dfef",
   "metadata": {},
   "source": [
    "**Algorithmus 8.1: Nullstellenberechnung mit der p/q-Formel**"
   ]
  },
  {
   "cell_type": "code",
   "execution_count": null,
   "id": "b9169406",
   "metadata": {},
   "outputs": [],
   "source": [
    "def p_q_formel(p, q, abschneiden=False):\n",
    "    a1 = drei_stellen(p**2 / 4, abschneiden)\n",
    "    a2 = drei_stellen(a1 - q, abschneiden)\n",
    "    a3 = drei_stellen(a2**0.5, abschneiden)\n",
    "    a4 = drei_stellen(p / 2, abschneiden)\n",
    "    \n",
    "    x1 = a4 - a3\n",
    "    x2 = a4 + a3\n",
    "    \n",
    "    return x1, x2"
   ]
  },
  {
   "cell_type": "markdown",
   "id": "67673891",
   "metadata": {},
   "source": [
    "**Algorithmus 8.2: Stabile Berechnung von Nullstellen quadratischer Funktionen**"
   ]
  },
  {
   "cell_type": "code",
   "execution_count": null,
   "id": "e4db8a53",
   "metadata": {},
   "outputs": [],
   "source": [
    "def stabile_nullstellen(p, q, abschneiden=False):\n",
    "    a1 = drei_stellen(p**2 / 4, abschneiden)\n",
    "    a2 = drei_stellen(a1 - q, abschneiden)\n",
    "    if a2 < 0:\n",
    "        raise Exception('Es gibt keine reellen Nullstellen!')\n",
    "    a3 = drei_stellen(a2**0.5, abschneiden)\n",
    "    if p < 0:\n",
    "        x1 = p / 2 - a3\n",
    "        x2 = q / x1\n",
    "    else:\n",
    "        x2 = p / 2 + a3\n",
    "        x1 = q / x2\n",
    "    return x1, x2"
   ]
  },
  {
   "cell_type": "markdown",
   "id": "cf782203-c7f0-4592-b2a7-2f3e74b6c88b",
   "metadata": {},
   "source": [
    "#### Beispiel 8.5\n",
    "\n",
    "Wir berechnen die Nullstelle von\n",
    "$$x^2 - 4x + 0.01 = 0.$$\n",
    "Es gilt\n",
    "$$  x_1\\approx 0.002502,\\quad x_2\\approx 3.997498.$$\n",
    "Bei Rechnungen mit drei Nachkommastellen ergeben die beiden Algorithmen:"
   ]
  },
  {
   "cell_type": "code",
   "execution_count": null,
   "id": "30ce6897",
   "metadata": {},
   "outputs": [],
   "source": [
    "print(' 3 Stellen, p-q Formel: ', p_q_formel(4, 0.01, True))\n",
    "print(' 3 Stellen, Stabil:     ', stabile_nullstellen(4, 0.01, True))"
   ]
  },
  {
   "cell_type": "markdown",
   "id": "ebe8a2be-77bd-41b6-af30-954a4e49ca06",
   "metadata": {},
   "source": [
    "Wenn wir normale `double` Zahlen nehmen, dann ist der Unterschied allerdings kaum sichtbar:"
   ]
  },
  {
   "cell_type": "code",
   "execution_count": null,
   "id": "9db1ca8f-bce0-4bcc-85dd-81f800bf490e",
   "metadata": {},
   "outputs": [],
   "source": [
    "print('            p-q Formel: ', p_q_formel(4, 0.01, False))\n",
    "print('            Stabil:     ', stabile_nullstellen(4, 0.01, False))"
   ]
  },
  {
   "cell_type": "code",
   "execution_count": null,
   "id": "83243e04-7cc0-4ba9-800a-3432adfe6bc1",
   "metadata": {},
   "outputs": [],
   "source": []
  },
  {
   "cell_type": "code",
   "execution_count": null,
   "id": "189d84f5-d8de-4189-88b3-d74c720e8074",
   "metadata": {},
   "outputs": [],
   "source": []
  }
 ],
 "metadata": {
  "kernelspec": {
   "display_name": "Python 3 (ipykernel)",
   "language": "python",
   "name": "python3"
  },
  "language_info": {
   "codemirror_mode": {
    "name": "ipython",
    "version": 3
   },
   "file_extension": ".py",
   "mimetype": "text/x-python",
   "name": "python",
   "nbconvert_exporter": "python",
   "pygments_lexer": "ipython3",
   "version": "3.11.9"
  }
 },
 "nbformat": 4,
 "nbformat_minor": 5
}
