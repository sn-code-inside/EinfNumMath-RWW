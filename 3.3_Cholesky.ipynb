{
 "cells": [
  {
   "cell_type": "markdown",
   "id": "3af09ca0",
   "metadata": {},
   "source": [
    "## 3.3 Die Cholesky-Zerlegung für positiv definite Matrizen\n",
    "\n",
    "**Implementierung 3.5: Direkte Berechnung der Cholesky-Zerlegung**"
   ]
  },
  {
   "cell_type": "code",
   "execution_count": null,
   "id": "63dade28",
   "metadata": {},
   "outputs": [],
   "source": [
    "import numpy as np \n",
    "\n",
    "def cholesky(A):\n",
    "    n, m = A.shape\n",
    "    assert n == m, \"Matrix muss quadratisch sein!\"\n",
    "    L = np.zeros_like(A)\n",
    "    \n",
    "    for j in range(0, n):\n",
    "        l = 0\n",
    "        for k in range(0, j):\n",
    "            l += L[j, k]**2\n",
    "        L[j, j] = np.sqrt(A[j, j] - l)\n",
    "        \n",
    "        for i in range(j + 1, n):\n",
    "            l = 0\n",
    "            for k in range(j):\n",
    "                l += L[i, k] * L[j, k]\n",
    "            L[i, j] = (A[i, j] - l) / L[j, j]\n",
    "    return L"
   ]
  },
  {
   "cell_type": "markdown",
   "id": "24bacabf",
   "metadata": {},
   "source": [
    "*Ergänzende Einzelheiten zum Code*\n",
    "- Mit `A.shape` erhalten wir ein `tupel` der Dimensionen von `A`. Wir gehen somit an dieser Stelle davon aus, dass der Funktion eine quadratische Matrix übergeben wurde.\n",
    "- Mit `np.zeros_like(A)` erstellen wir eine neue, mit 0 Einträgen gefüllte Matrix, welche dieselben Eigenschaften wie `A` hat.\n",
    "\n",
    "Wir wenden nun unsere Implementierung auf folgende Matrix an"
   ]
  },
  {
   "cell_type": "code",
   "execution_count": null,
   "id": "e71e9e7e",
   "metadata": {},
   "outputs": [],
   "source": [
    "A = np.array([[1, 1,  1],\n",
    "              [1, 4, 1],\n",
    "              [1, 1, 9]], dtype=np.half)\n",
    "L = cholesky(A)\n",
    "\n",
    "print(L)"
   ]
  },
  {
   "cell_type": "markdown",
   "id": "283a5325",
   "metadata": {},
   "source": [
    "Mit der Implementierung des Cholesky-Verfahrens von `numpy` erhalten wir"
   ]
  },
  {
   "cell_type": "code",
   "execution_count": null,
   "id": "107ad571",
   "metadata": {},
   "outputs": [],
   "source": [
    "np.linalg.cholesky(A.astype(np.double))"
   ]
  },
  {
   "cell_type": "markdown",
   "id": "136f49d2",
   "metadata": {},
   "source": [
    "Um hiermit ein System lösen zu können, müssen wir das Vorwärtseinsetzen mit nicht-1-Einträgen auf der Diagonalen implementieren. "
   ]
  },
  {
   "cell_type": "code",
   "execution_count": null,
   "id": "0b28b6a3",
   "metadata": {},
   "outputs": [],
   "source": [
    "def vorwaerts_einsetzen(L, b):\n",
    "    x = np.zeros_like(b)\n",
    "\n",
    "    for i in range(0, b.shape[0]):\n",
    "        xr = 0\n",
    "        for j in range(0, i):\n",
    "            xr += L[i, j] * x[j]\n",
    "        x[i] = (b[i] - xr) / L[i, i]\n",
    "    return x"
   ]
  },
  {
   "cell_type": "code",
   "execution_count": null,
   "id": "538cf8a3",
   "metadata": {},
   "outputs": [],
   "source": [
    "from scripts.LR_Zerlegung import rueckwaerts_einsetzen"
   ]
  },
  {
   "cell_type": "markdown",
   "id": "3aa4f40c",
   "metadata": {},
   "source": [
    "Mit der rechten Seite\n",
    "$$\n",
    "b = \\begin{pmatrix}3\\\\6\\\\11\\end{pmatrix}\n",
    "$$\n",
    "Ist die Lösung gegeben durch\n",
    "$$\n",
    "x = \\begin{pmatrix}1\\\\1\\\\11\\end{pmatrix}\n",
    "$$"
   ]
  },
  {
   "cell_type": "code",
   "execution_count": null,
   "id": "50f09325",
   "metadata": {},
   "outputs": [],
   "source": [
    "b = np.array([3, 6, 11], dtype=np.half)\n",
    "x_ex = np.array([1., 1., 1.])"
   ]
  },
  {
   "cell_type": "markdown",
   "id": "da4c3631",
   "metadata": {},
   "source": [
    "Mit unserer Cholesky-Zerlegung und unter Verwendung von `half` Gleitkommazahlen erhalten wir dann"
   ]
  },
  {
   "cell_type": "code",
   "execution_count": null,
   "id": "9e6bd548",
   "metadata": {},
   "outputs": [],
   "source": [
    "y = vorwaerts_einsetzen(L, b)\n",
    "x = rueckwaerts_einsetzen(L.transpose(), y)\n",
    "print(x)"
   ]
  },
  {
   "cell_type": "markdown",
   "id": "6ba9d3a0",
   "metadata": {},
   "source": [
    "Und erhalten den relativen Fehler"
   ]
  },
  {
   "cell_type": "code",
   "execution_count": null,
   "id": "756d0ab7",
   "metadata": {},
   "outputs": [],
   "source": [
    "np.linalg.norm(x - x_ex) / np.linalg.norm(x_ex)"
   ]
  },
  {
   "cell_type": "markdown",
   "id": "556d4ce6",
   "metadata": {},
   "source": [
    "Da diese Matrix recht gut konditioniert ist ($cond(A)\\approx 14$), bekommen wir bei `single` oder `double` Gleitkommazahlen sogar die exakte Lösung. Probieren Sie es aus!"
   ]
  },
  {
   "cell_type": "code",
   "execution_count": null,
   "id": "19f1369c-5de5-47bc-8666-4daadaa7e8e1",
   "metadata": {},
   "outputs": [],
   "source": []
  }
 ],
 "metadata": {
  "kernelspec": {
   "display_name": "Python 3 (ipykernel)",
   "language": "python",
   "name": "python3"
  },
  "language_info": {
   "codemirror_mode": {
    "name": "ipython",
    "version": 3
   },
   "file_extension": ".py",
   "mimetype": "text/x-python",
   "name": "python",
   "nbconvert_exporter": "python",
   "pygments_lexer": "ipython3",
   "version": "3.11.9"
  }
 },
 "nbformat": 4,
 "nbformat_minor": 5
}
