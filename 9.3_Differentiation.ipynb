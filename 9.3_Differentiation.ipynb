{
 "cells": [
  {
   "cell_type": "markdown",
   "id": "1bc26528",
   "metadata": {},
   "source": [
    "### 9.3 Numerische Differentiation"
   ]
  },
  {
   "cell_type": "code",
   "execution_count": null,
   "id": "6079bd0e",
   "metadata": {},
   "outputs": [],
   "source": [
    "import numpy as np"
   ]
  },
  {
   "cell_type": "markdown",
   "id": "2296f13c-e652-47d0-b11a-9026cd4122f5",
   "metadata": {},
   "source": [
    "Wir implementieren den einseitigen und zentralen Differenzenquotienten für die erste und zweite Ableitungen einer gegebenen Funktion."
   ]
  },
  {
   "cell_type": "code",
   "execution_count": null,
   "id": "22128eec-d3cc-4a28-b5f6-339ebc553252",
   "metadata": {},
   "outputs": [],
   "source": [
    "def differenz_einseitig_1(f, x, h):\n",
    "    f0 = f(x)\n",
    "    f1 = f(x + h)\n",
    "    return (f1 - f0) / h\n",
    "\n",
    "\n",
    "def differenz_zentral_1(f, x, h):\n",
    "    f0 = f(x - h)\n",
    "    f1 = f(x + h)\n",
    "    return (f1 - f0) / (2 * h)\n",
    "\n",
    "\n",
    "def differenz_einseitig_2(f, x, h):\n",
    "    f0 = f(x)\n",
    "    f1 = f(x + h)\n",
    "    f2 = f(x + 2 * h)\n",
    "    return (f2 - 2 * f1 + f0) / h**2\n",
    "\n",
    "\n",
    "def differenz_zentral_2(f, x, h):\n",
    "    f0 = f(x - h)\n",
    "    f1 = f(x)\n",
    "    f2 = f(x + h)\n",
    "    return (f2 - 2 * f1 + f0) / h**2"
   ]
  },
  {
   "cell_type": "markdown",
   "id": "e6467a4e-398d-4009-b9f1-d5e05abbfb21",
   "metadata": {},
   "source": [
    "#### Beispiel 9.25\n",
    "\n",
    "Wir betrachten die Funktion $$f(x) = \\tanh(x)$$ im Punkt $x=0.5$. Dabei berechnen wir über eine Reihe von Schrittgrößen $h$ den Fehler und die Konvergenzrate."
   ]
  },
  {
   "cell_type": "code",
   "execution_count": null,
   "id": "95df036f-68f9-4fb6-961e-0bc25768f51b",
   "metadata": {},
   "outputs": [],
   "source": [
    "x = 0.5\n",
    "h0 = 0.5\n",
    "k = 6\n",
    "\n",
    "err_last = np.zeros(4)\n",
    "rate = 0\n",
    "\n",
    "ex1 = 1 / np.cosh(x)**2\n",
    "ex2 = - 2 * np.sinh(x) / np.cosh(x)**3\n",
    "\n",
    "print('1. Ableitung Einseitig    1. Ableitung Zentral      2. Ableitung Einseitig      2. Ableitung Zentral')\n",
    "print('Wert      Fehler    Rate  Wert      Fehler    Rate  Wert       Fehler     Rate  Wert       Fehler    Rate')\n",
    "print('---------------------------------------------------------------------------------------------------------')\n",
    "\n",
    "for i in range(k):\n",
    "    h = h0 / 2**i\n",
    "    val_e1 = differenz_einseitig_1(np.tanh, x, h)\n",
    "    err_e1 = np.abs(ex1 - val_e1)\n",
    "    if i > 0:\n",
    "        rate = (np.log(err_last[0]) - np.log(err_e1)) / np.log(2)\n",
    "    print(f'{val_e1:.7f} {err_e1:.7f} {rate:4.2f}', end='  ')\n",
    "\n",
    "    val_z1 = differenz_zentral_1(np.tanh, x, h)\n",
    "    err_z1 = np.abs(ex1 - val_z1)\n",
    "    if i > 0:\n",
    "        rate = (np.log(err_last[1]) - np.log(err_z1)) / np.log(2)\n",
    "    print(f'{val_z1:.7f} {err_z1:.7f} {rate:4.2f}', end='  ')\n",
    "\n",
    "    val_e2 = differenz_einseitig_2(np.tanh, x, h)\n",
    "    err_e2 = np.abs(ex2 - val_e2)\n",
    "    if i > 0:\n",
    "        rate = (np.log(err_last[2]) - np.log(err_e2)) / np.log(2)\n",
    "    print(f'{val_e2:.7f} {err_e2:.7f} {rate: 4.2f}', end='  ')\n",
    "\n",
    "    val_z2 = differenz_zentral_2(np.tanh, x, h)\n",
    "    err_z2 = np.abs(ex2 - val_z2)\n",
    "    if i > 0:\n",
    "        rate = (np.log(err_last[3]) - np.log(err_z2)) / np.log(2)\n",
    "    print(f'{val_z2:.7f} {err_z2:.7f} {rate:4.2f}', end='\\n')\n",
    "    \n",
    "\n",
    "    err_last[:] = err_e1, err_z1, err_e2, err_z2\n",
    "    "
   ]
  },
  {
   "cell_type": "markdown",
   "id": "dfb71556-a19a-4d48-a94d-babef9ae8aff",
   "metadata": {},
   "source": [
    "Wir sehen also die lineare Konvergenz der einseitigen Differenzenquotienten, sowie die Konvergenz zweiter Ordnung für die zentralen Differenzenquotienten."
   ]
  },
  {
   "cell_type": "code",
   "execution_count": null,
   "id": "da6c0987-7566-4865-9f3b-56fe2ee82f3a",
   "metadata": {},
   "outputs": [],
   "source": []
  }
 ],
 "metadata": {
  "kernelspec": {
   "display_name": "Python 3 (ipykernel)",
   "language": "python",
   "name": "python3"
  },
  "language_info": {
   "codemirror_mode": {
    "name": "ipython",
    "version": 3
   },
   "file_extension": ".py",
   "mimetype": "text/x-python",
   "name": "python",
   "nbconvert_exporter": "python",
   "pygments_lexer": "ipython3",
   "version": "3.11.9"
  }
 },
 "nbformat": 4,
 "nbformat_minor": 5
}
