{
 "cells": [
  {
   "cell_type": "markdown",
   "id": "2a11c47e",
   "metadata": {},
   "source": [
    "## 5.3 Iterative Verfahren"
   ]
  },
  {
   "cell_type": "code",
   "execution_count": null,
   "id": "8ab16737",
   "metadata": {},
   "outputs": [],
   "source": [
    "import numpy as np"
   ]
  },
  {
   "cell_type": "markdown",
   "id": "c1cc1559-ca3e-4398-bbd8-5fd2e2b71276",
   "metadata": {},
   "source": [
    "Zunächst implementieren wir die Potenzmethode nach von Mises."
   ]
  },
  {
   "cell_type": "code",
   "execution_count": null,
   "id": "faff30e9",
   "metadata": {},
   "outputs": [],
   "source": [
    "def potenzmethode_mieses(A, x, n, k=0):\n",
    "    n1, n2 = A.shape\n",
    "    n3, = x.shape\n",
    "    assert (n1==n2), 'Matrix nicht quadratisch'\n",
    "    assert (n1==n3), 'Matrix und Vektor Dimensionen passen nicht'\n",
    "    \n",
    "    lams = []\n",
    "    for i in range(n):\n",
    "        x_neu = np.inner(A, x)\n",
    "        lams.append(x_neu[k] / x[k])\n",
    "        x = x_neu / np.linalg.norm(x_neu)\n",
    "    \n",
    "    return lams"
   ]
  },
  {
   "cell_type": "markdown",
   "id": "151c2e2e-b05b-4358-9167-dee14da010d2",
   "metadata": {},
   "source": [
    "#### Beispiel 5.13 (Potenzmethode nach von Mises)\n",
    "\n",
    "Wir betrachten die Matrix\n",
    "$$A = \\begin{pmatrix} 2&1&2\\\\ -1 & 2 & 1 \\\\ 1 & 2 & 4 \\end{pmatrix}$$\n",
    "und nehmen den Startvektor $x_0 = (1,1,1)^T$. Mit 6 Iterationsschritten bekommen wir dann die Approximation"
   ]
  },
  {
   "cell_type": "code",
   "execution_count": null,
   "id": "c0b72ca0",
   "metadata": {},
   "outputs": [],
   "source": [
    "A = np.array([[2, 1, 2],\n",
    "              [-1, 2, 1],\n",
    "              [1, 2, 4]], dtype=np.double)\n",
    "x = np.array([1, 1, 1], dtype=np.double)\n",
    "\n",
    "l = potenzmethode_mieses(A, x, 6, k=0)\n",
    "print(f'l_{len(l)} = {l[-1]}')"
   ]
  },
  {
   "cell_type": "markdown",
   "id": "4c14d478-f303-41d4-8d75-7a4415cbdf96",
   "metadata": {},
   "source": [
    "Dies enstpricht einem Fehler von"
   ]
  },
  {
   "cell_type": "code",
   "execution_count": null,
   "id": "586bf5cd-4d8f-45f3-bbbe-fae436873bda",
   "metadata": {},
   "outputs": [],
   "source": [
    "print(f'err = {abs(l[-1] - np.linalg.eig(A)[0][2])}')"
   ]
  },
  {
   "cell_type": "markdown",
   "id": "c1626d71",
   "metadata": {},
   "source": [
    "Um andere Eigenwerte zu bestimmen, implementieren wir nun die inverse Iteration mit Shift nach Wieland. Hierzu verwenden wir unsere Implementierung der LR-Zerlegung mit Pivotisierung."
   ]
  },
  {
   "cell_type": "code",
   "execution_count": null,
   "id": "4fbf0ae2",
   "metadata": {},
   "outputs": [],
   "source": [
    "from scripts.LR_Zerlegung import LR_zerlegung_mit_pivot, \\\n",
    "    vorwaerts_einsetzen_ohne_diag, rueckwaerts_einsetzen"
   ]
  },
  {
   "cell_type": "code",
   "execution_count": null,
   "id": "401a732b",
   "metadata": {},
   "outputs": [],
   "source": [
    "def inverse_interation_wieland(A, x, sigma, n, k=0):\n",
    "    n1, n2 = A.shape\n",
    "    n3, = x.shape\n",
    "    assert (n1==n2), 'Matrix nicht quadratisch'\n",
    "    assert (n1==n3), 'Matrix und Vektor Dimensionen passen nicht'\n",
    "    \n",
    "    B = np.array(A - sigma * np.identity(n1), dtype=A.dtype)\n",
    "    pivot = LR_zerlegung_mit_pivot(B)\n",
    "    \n",
    "    lams = []\n",
    "    for i in range(n):\n",
    "        xk = x[k]\n",
    "        \n",
    "        for p in pivot:\n",
    "            x[p] = x[[p[1], p[0]]]\n",
    "        y = vorwaerts_einsetzen_ohne_diag(B, x)\n",
    "        x_neu = rueckwaerts_einsetzen(B, y)\n",
    "\n",
    "        mu = x_neu[k] / xk\n",
    "        lams.append(sigma + 1 / mu)\n",
    "        x = np.array(x_neu / np.linalg.norm(x_neu, ord=np.inf))\n",
    "    \n",
    "    return lams"
   ]
  },
  {
   "cell_type": "markdown",
   "id": "c1f1d0f2-8646-4a41-9d12-e0f1869ca1fb",
   "metadata": {},
   "source": [
    "#### Beispiel 5.15 (Inverse Iteration mit Shift nach Wieland)\n",
    "\n",
    "Wir betrachten dieselbe Matrix wie zuvor. Nach 4 Schritten der Inversen Iteration, mit Shift $\\sigma=2, -1, 4$, erhalten wir jeweils"
   ]
  },
  {
   "cell_type": "code",
   "execution_count": null,
   "id": "d4f65881",
   "metadata": {},
   "outputs": [],
   "source": [
    "A = np.array([[2, -0.1, 0.4], [0.3, -1, 0.4], [0.2, -0.1, 4]])\n",
    "v = np.array([1.0, 1.0, 1.0])\n",
    "\n",
    "lam1 = inverse_interation_wieland(A, v, 2, 4, k=0)\n",
    "lam2 = inverse_interation_wieland(A, v, -1, 4, k=0)\n",
    "lam3 = inverse_interation_wieland(A, v, 4, 4, k=0)\n",
    "\n",
    "print(f'lam_1^({len(lam1)}) = {lam1[-1]}')\n",
    "print(f'lam_2^({len(lam2)}) = {lam2[-1]}')\n",
    "print(f'lam_3^({len(lam3)}) = {lam3[-1]}')"
   ]
  },
  {
   "cell_type": "markdown",
   "id": "68364df7-a687-4b6c-880a-b7377fc24833",
   "metadata": {},
   "source": [
    "Daraus ergeben sich die Fehler"
   ]
  },
  {
   "cell_type": "code",
   "execution_count": null,
   "id": "e1238cb6-713a-4ece-a4ba-1d03e2db851d",
   "metadata": {},
   "outputs": [],
   "source": [
    "lam = np.linalg.eig(A)[0]\n",
    "print(f'err(lam_1) = {abs(lam1[-1] - lam[1]):.3e}')\n",
    "print(f'err(lam_2) = {abs(lam2[-1] - lam[0]):.3e}')\n",
    "print(f'err(lam_3) = {abs(lam3[-1] - lam[2]):.3e}')"
   ]
  }
 ],
 "metadata": {
  "kernelspec": {
   "display_name": "Python 3 (ipykernel)",
   "language": "python",
   "name": "python3"
  },
  "language_info": {
   "codemirror_mode": {
    "name": "ipython",
    "version": 3
   },
   "file_extension": ".py",
   "mimetype": "text/x-python",
   "name": "python",
   "nbconvert_exporter": "python",
   "pygments_lexer": "ipython3",
   "version": "3.11.9"
  }
 },
 "nbformat": 4,
 "nbformat_minor": 5
}
