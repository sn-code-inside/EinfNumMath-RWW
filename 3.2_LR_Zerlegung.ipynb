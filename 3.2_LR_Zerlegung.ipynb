{
 "cells": [
  {
   "cell_type": "markdown",
   "id": "0c312ccc",
   "metadata": {},
   "source": [
    "## 3.2 LR-Zerlegung\n",
    "\n",
    "**Implementierung 3.1: Rückwärtseinsetzen**\n",
    "\n",
    "Wir implementieren den Algorithmus des Rückwärtseinsetzens mithilfe von `numpy`. Dabei müssen wir bei den Indizes vorsichtig sein. Auf dem Papier werden in der Regel die Indizes der Einträge einer $n$x$n$-Matrix von $1$ bis $n$ durchnummeriert, in dem meisten Programmiersprachen laufen die Indizes aber von $0$ bis $n-1$."
   ]
  },
  {
   "cell_type": "code",
   "execution_count": null,
   "id": "7e8533c0",
   "metadata": {},
   "outputs": [],
   "source": [
    "import numpy as np\n",
    "\n",
    "def rueckwaerts_einsetzen(R, b):\n",
    "    assert (len(b.shape) == 1), 'Rechte Seite ist kein Vektor'\n",
    "    n = b.shape[0]\n",
    "    assert (R.shape == (n, n)), 'Matrix hat falsche Dimensionen'\n",
    "    \n",
    "    x = np.empty_like(b)\n",
    "    \n",
    "    x[n - 1] = b[n - 1] / R[n - 1, n - 1]\n",
    "    for i in range(n - 2, -1, -1):\n",
    "        xr = 0\n",
    "        for j in range(i + 1, n):\n",
    "            xr += R[i, j] * x[j]\n",
    "        x[i] = (b[i] - xr) / R[i, i]\n",
    "    return x   "
   ]
  },
  {
   "cell_type": "markdown",
   "id": "64a56b3b",
   "metadata": {},
   "source": [
    "*Ergänzende Einzelheiten zum Code*\n",
    "- Am Anfang der Funktion testen wir, ob die übergebenen Daten überhaupt kompatibel sind, also ob wirklich ein Vektor übergeben wurde und ob die Matrix die richtigen Dimensionen hat.\n",
    "- Mit der numpy Funktion `np.empty_like()` erstellen wir ein neues, leeres `array` mit den selben Eigenschaften wie `b`. Das heißt die Dimensionen und die Genauigkeit mit der Gleitkommazahlen gespeichert werden sind dieselben.\n",
    "\n",
    "Wir testen unseren Code nun anhand des Beispiels\n",
    "$$\n",
    "R = \\begin{pmatrix} 1 & 1 & 1 \\\\ 0 & 1 & 2 \\\\ 0 & 0 & 4 \\end{pmatrix}\n",
    "\\quad\\text{und}\\quad\n",
    "b = \\begin{pmatrix} 1 \\\\ 1 \\\\ -4\\end{pmatrix}.\n",
    "$$"
   ]
  },
  {
   "cell_type": "code",
   "execution_count": null,
   "id": "9edfc85b",
   "metadata": {},
   "outputs": [],
   "source": [
    "R = np.array([[1, 1, 1], [0, 1, 2], [0, 0, 4]], dtype=np.float64)\n",
    "b = np.array([1, 1, -4], dtype=np.float64)"
   ]
  },
  {
   "cell_type": "markdown",
   "id": "cc92e9e8",
   "metadata": {},
   "source": [
    "Hier haben wir spezifiziert, dass die Matrixeinträge als 64-bit Gleitkommazahl gespeichert werden sollen (sonnst auch als `double` bekannt). Dies ist wichtig, da `numpy` sonst das Zahlenformat aus den Einträgen folgern würde, was in diesem Fall `int64` wäre, also ganze Zahlen."
   ]
  },
  {
   "cell_type": "code",
   "execution_count": null,
   "id": "f12706fd",
   "metadata": {},
   "outputs": [],
   "source": [
    "x = rueckwaerts_einsetzen(R, b)\n",
    "print(' x = ', x)\n",
    "print('Rx = ', np.dot(R, x))"
   ]
  },
  {
   "cell_type": "markdown",
   "id": "687fdf93",
   "metadata": {},
   "source": [
    "Experimentieren Sie mit den Einträgen der Matrix und dem Zahlenformat. Z.B. nehmen Sie die rechte Seite $(1,1,-1)$ und speichern `R, b` im Datenformat `np.int64`. Was beobachten Sie und können Sie dies erklären?"
   ]
  },
  {
   "cell_type": "markdown",
   "id": "b41bbb18",
   "metadata": {},
   "source": [
    "**Implementierung 3.2: LR-Zerlegung einer Matrix A ohne Zusatzspeicher**"
   ]
  },
  {
   "cell_type": "code",
   "execution_count": null,
   "id": "cad9044d",
   "metadata": {},
   "outputs": [],
   "source": [
    "def LR_zerlegung_einfach(A):\n",
    "    assert (A.shape[0] == A.shape[1]), 'Matrix ist nicht quadratisch'\n",
    "    n = A.shape[0]\n",
    "    \n",
    "    for i in range(0, n):\n",
    "        for k in range(i + 1, n):\n",
    "            A[k, i] = A[k, i] / A[i, i]\n",
    "            for j in range(i + 1, n):\n",
    "                A[k, j] = A[k, j] - A[k, i] * A[i, j]\n",
    "    return None"
   ]
  },
  {
   "cell_type": "markdown",
   "id": "d6bc875f",
   "metadata": {},
   "source": [
    "#### Beispiel 3.13 (LR-Zerlegung ohne Pivotisierung)\n",
    "\n",
    "Wir betrachten das Beispiel\n",
    "$$\n",
    "A = \\begin{pmatrix}\n",
    "2.3 & 1.8 & 1 \\\\ 1.4 & 1.1 & -0.7 \\\\ 0.8 & 4.3 & 2.1\n",
    "\\end{pmatrix}\n",
    "\\quad\\text{und}\\quad\n",
    "b = \\begin{pmatrix} 1.2 \\\\ -2.1 \\\\ 0.6 \\end{pmatrix}.\n",
    "$$"
   ]
  },
  {
   "cell_type": "code",
   "execution_count": null,
   "id": "8a3db1de",
   "metadata": {},
   "outputs": [],
   "source": [
    "A = np.array([[2.3, 1.8, 1], [1.4, 1.1, -0.7], [0.8, 4.3, 2.1]])\n",
    "b = np.array([1.2, -2.1, 0.6])"
   ]
  },
  {
   "cell_type": "markdown",
   "id": "24cda2b9",
   "metadata": {},
   "source": [
    "Hier ist es nicht notwendig das Zahlenformat anzugeben, da die `array`s direkt mit Gleitkommazahlen gefüllt werden, die `numpy` direkt als `float64` interpretiert. Dies können Sie überprüfen in dem Sie den Datentyp durch das Attribut `dtype` der Arrays sich ausgeben lassen.\n",
    "\n",
    "Mit dem Modul `linalg` von `numpy` können wir das System direkt lösen lassen:"
   ]
  },
  {
   "cell_type": "code",
   "execution_count": null,
   "id": "df19ade3",
   "metadata": {},
   "outputs": [],
   "source": [
    "x_np = np.linalg.solve(A, b)\n",
    "print('x_np = ', x_np)"
   ]
  },
  {
   "cell_type": "markdown",
   "id": "d44fde9c",
   "metadata": {},
   "source": [
    "Wir legen nun die Matrix nochmal neu mit *half precision* Dezimalzahlen an, um den Effekt der Pivotisierung zu verdeutlichen"
   ]
  },
  {
   "cell_type": "code",
   "execution_count": null,
   "id": "285a380a",
   "metadata": {},
   "outputs": [],
   "source": [
    "A = np.array([[2.3, 1.8, 1],[1.4, 1.1, -0.7],[0.8, 4.3, 2.1]], dtype=np.half)\n",
    "b = np.array([1.2, -2.1, 0.6], dtype=np.half)\n",
    "\n",
    "LR_zerlegung_einfach(A)\n",
    "\n",
    "print('Modifiziertes A =\\n', A)"
   ]
  },
  {
   "cell_type": "markdown",
   "id": "31069dd9",
   "metadata": {},
   "source": [
    "Um das System zu lösen, müssen wir noch das Vorwärtseinsetzen implementieren:\n",
    "\n",
    "**Implementierung 3.3: Vorwärtseinsetzen**"
   ]
  },
  {
   "cell_type": "code",
   "execution_count": null,
   "id": "4fb3aa4a",
   "metadata": {},
   "outputs": [],
   "source": [
    "def vorwaerts_einsetzen_ohne_diag(L, b):\n",
    "    # Wir nehmen an das alle Diagonaleinträge 1 sind um die modifizierte\n",
    "    # Matrix ohne extra speicher verwenden zu können\n",
    "    x = np.zeros_like(b)\n",
    "\n",
    "    for i in range(0, b.shape[0]):\n",
    "        xr = 0\n",
    "        for j in range(0, i):\n",
    "            xr += L[i, j] * x[j]\n",
    "        x[i] = (b[i] - xr)\n",
    "    return x "
   ]
  },
  {
   "cell_type": "code",
   "execution_count": null,
   "id": "780f30a0",
   "metadata": {},
   "outputs": [],
   "source": [
    "y = vorwaerts_einsetzen_ohne_diag(A, b)\n",
    "print('y = ', y)\n",
    "x = rueckwaerts_einsetzen(A, y)\n",
    "print('x = ', x)"
   ]
  },
  {
   "cell_type": "markdown",
   "id": "03b91e9d",
   "metadata": {},
   "source": [
    "Und wir haben den relativen Fehler"
   ]
  },
  {
   "cell_type": "code",
   "execution_count": null,
   "id": "9544541e",
   "metadata": {},
   "outputs": [],
   "source": [
    "print('Relativer Fehler:', np.linalg.norm(x - x_np) / np.linalg.norm(x_np))"
   ]
  },
  {
   "cell_type": "markdown",
   "id": "413071df",
   "metadata": {},
   "source": [
    "#### Beispiel 3.14 (LR-Zerlegung mit Pivotisierung)\n",
    "\n",
    "Wir betrachten dasselbe Beispiel aber nun mit der LR-Zerlegung mit Pivotsuche.\n",
    "\n",
    "**Implementierung 3.4: LR-Zerlegung mit Pivotisierung**"
   ]
  },
  {
   "cell_type": "code",
   "execution_count": null,
   "id": "ed5d052d",
   "metadata": {},
   "outputs": [],
   "source": [
    "def LR_zerlegung_mit_pivot(A):\n",
    "    assert (A.shape[0] == A.shape[1]), 'Matrix ist nicht Quadratisch'\n",
    "    n = A.shape[0]\n",
    "    pivot = []\n",
    "    \n",
    "    for i in range(0, n):\n",
    "        # Wir suchen das Pivotelement und vertauschen die Zeilen.\n",
    "        k = i\n",
    "        for j in range(i, n):\n",
    "            if abs(A[j, i]) > abs(A[k, i]):\n",
    "                k = j\n",
    "        A[[i, k], :] = A[[k, i], :]\n",
    "        pivot.append([i, k])\n",
    "        \n",
    "        for k in range(i + 1, n):\n",
    "            A[k, i] = A[k, i] / A[i, i]\n",
    "            for j in range(i + 1, n):\n",
    "                A[k, j] = A[k, j] - A[k, i] * A[i, j]\n",
    "\n",
    "    return pivot"
   ]
  },
  {
   "cell_type": "markdown",
   "id": "69aa23ba",
   "metadata": {},
   "source": [
    "Wenden wir dies auf das Gleichungssystem an:"
   ]
  },
  {
   "cell_type": "code",
   "execution_count": null,
   "id": "288b442a",
   "metadata": {},
   "outputs": [],
   "source": [
    "A = np.array([[2.3, 1.8, 1], [1.4, 1.1, -0.7], [0.8, 4.3, 2.1]], dtype=np.half)\n",
    "b = np.array([1.2, -2.1, 0.6], dtype=np.half)\n",
    "\n",
    "pivot = LR_zerlegung_mit_pivot(A)\n",
    "print('Modifiziertes A =\\n', A)"
   ]
  },
  {
   "cell_type": "code",
   "execution_count": null,
   "id": "29f5f6c5",
   "metadata": {},
   "outputs": [],
   "source": [
    "for p in pivot:\n",
    "    b[p] = b[[p[1], p[0]]] \n",
    "print('P b = ', b)"
   ]
  },
  {
   "cell_type": "code",
   "execution_count": null,
   "id": "0f310d2f",
   "metadata": {},
   "outputs": [],
   "source": [
    "y = vorwaerts_einsetzen_ohne_diag(A, b)\n",
    "print('y = ', y)\n",
    "x = rueckwaerts_einsetzen(A, y)\n",
    "print('x = ', x)"
   ]
  },
  {
   "cell_type": "markdown",
   "id": "26ab04fb",
   "metadata": {},
   "source": [
    "Der relative Fehler ist damit"
   ]
  },
  {
   "cell_type": "code",
   "execution_count": null,
   "id": "744131dd",
   "metadata": {},
   "outputs": [],
   "source": [
    "np.linalg.norm(x - x_np) / np.linalg.norm(x_np)"
   ]
  },
  {
   "cell_type": "markdown",
   "id": "668a693b",
   "metadata": {},
   "source": [
    "Ändern Sie den Datentyp der Arrays zu `np.single`oder `np.double`. Was beobachten Sie? "
   ]
  },
  {
   "cell_type": "code",
   "execution_count": null,
   "id": "c606b461",
   "metadata": {},
   "outputs": [],
   "source": []
  }
 ],
 "metadata": {
  "kernelspec": {
   "display_name": "Python 3 (ipykernel)",
   "language": "python",
   "name": "python3"
  },
  "language_info": {
   "codemirror_mode": {
    "name": "ipython",
    "version": 3
   },
   "file_extension": ".py",
   "mimetype": "text/x-python",
   "name": "python",
   "nbconvert_exporter": "python",
   "pygments_lexer": "ipython3",
   "version": "3.11.9"
  }
 },
 "nbformat": 4,
 "nbformat_minor": 5
}
