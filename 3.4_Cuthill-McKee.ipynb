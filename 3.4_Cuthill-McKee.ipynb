{
 "cells": [
  {
   "cell_type": "markdown",
   "id": "d36111c9",
   "metadata": {},
   "source": [
    "## 3.4 Dünn besetzte Matrizen"
   ]
  },
  {
   "cell_type": "code",
   "execution_count": null,
   "id": "b744d14e",
   "metadata": {},
   "outputs": [],
   "source": [
    "import numpy as np\n",
    "import scipy as sp\n",
    "import matplotlib.pyplot as plt"
   ]
  },
  {
   "cell_type": "markdown",
   "id": "04ee4330",
   "metadata": {},
   "source": [
    "Um dünnbesetzte Matrizen auch als solche zu speichern, verwenden wir dir Bibliothek `scipy` die auch im wissenschaftlichen Rechnen Verwendung findet. Des Weiteren nutzen wir `matplotlib` um die Besetzungsstruktur der Matrizen zu visualisieren.\n",
    "\n",
    "**Implementierung 3.6: Cuthill-McKee-Algorithmus**"
   ]
  },
  {
   "cell_type": "code",
   "execution_count": null,
   "id": "3536c4df",
   "metadata": {},
   "outputs": [],
   "source": [
    "def cuthill_mckee(A):\n",
    "    n = A.shape[0]\n",
    "    row, col = A.nonzero()\n",
    "    N = [(l, len(l)) for l in [list(row[col == i]) for i in range(n)]]\n",
    "\n",
    "    I, Q = [], []\n",
    "    R = [i for i in range(n)]\n",
    "\n",
    "    for k in range(n):\n",
    "        if len(I) == n:\n",
    "            break\n",
    "        elif len(I) == k:\n",
    "            i = R[np.argmin(np.array([N[i][1] for i in R]))]\n",
    "            I.append(i)\n",
    "            Q.append(i)\n",
    "            R.remove(i)\n",
    "\n",
    "        i = Q[0]\n",
    "        nachbarn = [n for n in N[i][0] if n not in I]\n",
    "        nachbarn_sort = sorted(nachbarn, key=lambda i: N[i][1])\n",
    "        for ik in nachbarn_sort:\n",
    "            I.append(ik)\n",
    "            Q.append(ik)\n",
    "            R.remove(ik)\n",
    "        Q.pop(0)\n",
    "\n",
    "    data, row, col = [], [], []\n",
    "    for key in A.todok().keys():\n",
    "        data.append(A[key])\n",
    "        row.append(I.index(key[0]))\n",
    "        col.append(I.index(key[1]))\n",
    "\n",
    "    return sp.sparse.csr_matrix((data, (row, col)), shape=(n, n))"
   ]
  },
  {
   "cell_type": "markdown",
   "id": "657b7364",
   "metadata": {},
   "source": [
    "#### Beispiel 3.24 (Cuthill-McKee)\n",
    "Wir wenden unsere Implementierung auf die im Buch gegebene Matrix an. Dabei nehmen wir einfachheitshalber 1 als nicht-null Wert."
   ]
  },
  {
   "cell_type": "code",
   "execution_count": null,
   "id": "b2dc3207",
   "metadata": {},
   "outputs": [],
   "source": [
    "A1 = sp.sparse.csr_matrix([[1, 1, 0, 0, 0, 0, 0, 1],\n",
    "                           [1, 1, 0, 0, 1, 1, 0, 1],\n",
    "                           [0, 0, 1, 0, 1, 0, 1, 1],\n",
    "                           [0, 0, 0, 1, 0, 0, 0, 0],\n",
    "                           [0, 1, 1, 0, 1, 0, 1, 0],\n",
    "                           [0, 1, 0, 0, 0, 1, 0, 0],\n",
    "                           [0, 0, 1, 0, 1, 0, 1, 0],\n",
    "                           [1, 1, 1, 0, 0, 0, 0, 1]])\n",
    "\n",
    "plt.spy(A1)\n",
    "plt.show()"
   ]
  },
  {
   "cell_type": "code",
   "execution_count": null,
   "id": "5d6fa76e",
   "metadata": {},
   "outputs": [],
   "source": [
    "A2 = cuthill_mckee(A1)\n",
    "plt.spy(A2)\n",
    "plt.show()"
   ]
  },
  {
   "cell_type": "markdown",
   "id": "3a092226",
   "metadata": {},
   "source": [
    "#### Beispiel 3.25 (Cholesky-Zerlegung für Bandmatrizen)\n",
    "\n",
    "Aus Satz 3.22 (LR-Zerlegung einer Bandmatrix) wissen wir, dass die LR-Zerlegung einer Bandmatrix wieder Bandmatrizen mit derselben Bandbreite produziert. Dies können wir in der Implementierung der Cholesky-Zerlegung ausnutzen, um unnötige Arbeit zu vermeiden."
   ]
  },
  {
   "cell_type": "code",
   "execution_count": null,
   "id": "bae890d7-ecf0-4c9a-884a-4cf73b40d8a5",
   "metadata": {},
   "outputs": [],
   "source": [
    "def cholesky_band(A):\n",
    "    n, m = A.shape\n",
    "    assert n == m, 'Matrix must be square!'\n",
    "    L = np.zeros_like(A)\n",
    "\n",
    "    for p in range(n - 1):\n",
    "        if np.allclose(L, np.triu(A, k=p + 1)) and np.allclose(L, np.tril(A, k=-p - 1)):\n",
    "            break\n",
    "\n",
    "    for j in range(0, n):\n",
    "        ll = 0\n",
    "        m = max(0, j - p)\n",
    "        for k in range(m, j):\n",
    "            ll += L[j, k]**2\n",
    "        L[j, j] = np.sqrt(A[j, j] - ll)\n",
    "\n",
    "        for i in range(j + 1, min(j + 1 + p, n)):\n",
    "            ll = 0\n",
    "            for k in range(m, j):\n",
    "                ll += L[i, k] * L[j, k]\n",
    "            L[i, j] = (A[i, j] - ll) / L[j, j]\n",
    "    return L"
   ]
  },
  {
   "cell_type": "markdown",
   "id": "274c929c-cf16-47aa-8710-c3f75eb36860",
   "metadata": {},
   "source": [
    "Um dies zu testen, generieren wir zunächst eine dünnbesetzte symmetrisch positiv definite Matrix."
   ]
  },
  {
   "cell_type": "code",
   "execution_count": null,
   "id": "fd73c03e-b6d6-438a-b914-89cb9fe7ff0b",
   "metadata": {},
   "outputs": [],
   "source": [
    "C = sp.sparse.rand(100, 100, density=0.02, format='csr', random_state=100)\n",
    "X = sp.sparse.eye(100) + C @ C.T\n",
    "\n",
    "plt.tick_params(axis='both', which='both', labelbottom=False, labelleft=False, width=0)\n",
    "plt.spy(X, markersize=2)\n",
    "plt.show()"
   ]
  },
  {
   "cell_type": "markdown",
   "id": "401cec98-dad6-440b-8ad0-4478b7a862b4",
   "metadata": {},
   "source": [
    "Wenden wir die Cholesky-Zerlegung direkt an, so sehen wir, dass die Matrix $L$ im unteren Dreieck fast vollbesetzt ist. Insbesondere die unteren Reihen haben kaum Null-Einträge."
   ]
  },
  {
   "cell_type": "code",
   "execution_count": null,
   "id": "026d915a-5f88-4d04-9fdc-8c0f68ecd549",
   "metadata": {},
   "outputs": [],
   "source": [
    "L = cholesky_band(X.toarray())\n",
    "plt.spy(sp.sparse.csr_matrix(L), markersize=2)\n",
    "plt.show()"
   ]
  },
  {
   "cell_type": "markdown",
   "id": "70437f2a-4f0e-40db-ac55-6e4ba07e9d94",
   "metadata": {},
   "source": [
    "Wenden wir aber erst den Cuthill-McKee-Algorithmus auf die Matrix an, bekommen wir die Matrix in einer Bandstruktur, die wir in der Cholesky-Zerlegung ausnutzen können."
   ]
  },
  {
   "cell_type": "code",
   "execution_count": null,
   "id": "e7065e64-2aff-4499-8ddf-0a4e722abb8d",
   "metadata": {},
   "outputs": [],
   "source": [
    "X1 = cuthill_mckee(X)\n",
    "plt.spy(X1, markersize=2)\n",
    "plt.show()"
   ]
  },
  {
   "cell_type": "markdown",
   "id": "5d35c21f-0ce5-430d-a936-a1f0186cbde3",
   "metadata": {},
   "source": [
    "Die Cholesky-Zerlegung nutzt dies dann aus und wir erhalten in $L$ wieder eine dünnbesetzte Matrix:"
   ]
  },
  {
   "cell_type": "code",
   "execution_count": null,
   "id": "5c3066f0-213a-4e27-b8a0-97992e49248a",
   "metadata": {},
   "outputs": [],
   "source": [
    "L = cholesky_band(X1.toarray())\n",
    "plt.spy(sp.sparse.csr_matrix(L), markersize=2)\n",
    "plt.show()"
   ]
  },
  {
   "cell_type": "markdown",
   "id": "6843926a-1beb-425f-bc84-9163a8677896",
   "metadata": {},
   "source": [
    "Wir beobachten allerdings, dass innerhalb der Bandbreite durchaus Nicht-Null-Einträge in die Besetzungsstruktur hinzu kommen. Im Vor- und Rückwärtseinsetzen können wir nun aber auch die Bandstruktur ausnutzen. "
   ]
  }
 ],
 "metadata": {
  "kernelspec": {
   "display_name": "Python 3 (ipykernel)",
   "language": "python",
   "name": "python3"
  },
  "language_info": {
   "codemirror_mode": {
    "name": "ipython",
    "version": 3
   },
   "file_extension": ".py",
   "mimetype": "text/x-python",
   "name": "python",
   "nbconvert_exporter": "python",
   "pygments_lexer": "ipython3",
   "version": "3.11.9"
  }
 },
 "nbformat": 4,
 "nbformat_minor": 5
}
