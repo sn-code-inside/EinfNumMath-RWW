{
 "cells": [
  {
   "cell_type": "markdown",
   "id": "3af09ca0",
   "metadata": {},
   "source": [
    "## 3.6 Nachiteration"
   ]
  },
  {
   "cell_type": "code",
   "execution_count": null,
   "id": "63dade28",
   "metadata": {},
   "outputs": [],
   "source": [
    "import numpy as np\n",
    "from scripts.LR_Zerlegung import rueckwaerts_einsetzen, vorwaerts_einsetzen_ohne_diag, \\\n",
    "    LR_zerlegung_mit_pivot"
   ]
  },
  {
   "cell_type": "markdown",
   "id": "73adfa05",
   "metadata": {},
   "source": [
    "#### Beispiel 3.35 (Nachiteration)\n",
    "Wir definieren die Matrix und die exakte Lösung mithilfe der `numpy` Routinen mit der wir später unsere Lösungen vergleichen wollen:"
   ]
  },
  {
   "cell_type": "code",
   "execution_count": null,
   "id": "f657c3f8",
   "metadata": {},
   "outputs": [],
   "source": [
    "A = np.array([[2.3, 1.8, 1], [1.4, 1.1, -0.7], [0.8, 4.3, 2.1]])\n",
    "b = np.array([1.2, -2.1, 0.6])\n",
    "x_np = np.linalg.solve(A, b)"
   ]
  },
  {
   "cell_type": "markdown",
   "id": "64fc7a69",
   "metadata": {},
   "source": [
    "Jetzt implementieren wir die Nachiteration so, dass wir die Gleitkommadarstellung der Matrix ändern können.\n",
    "\n",
    "**Implementierung 3.7: Nachiteration**"
   ]
  },
  {
   "cell_type": "code",
   "execution_count": null,
   "id": "d0a1d995",
   "metadata": {},
   "outputs": [],
   "source": [
    "def nachiteration(A, b, n=3, precision2=np.half):\n",
    "    A_2 = A.astype(precision2)\n",
    "    pivot = LR_zerlegung_mit_pivot(A_2)\n",
    "    d = b.copy()\n",
    "    x = np.zeros_like(b)\n",
    "    for i in range(n):\n",
    "        for p in pivot:\n",
    "            d[p] = d[[p[1], p[0]]]\n",
    "        y = vorwaerts_einsetzen_ohne_diag(A_2, d)\n",
    "        w = rueckwaerts_einsetzen(A_2, y)\n",
    "        x[:] += w\n",
    "        d[:] = b - A.dot(x)\n",
    "    return x"
   ]
  },
  {
   "cell_type": "markdown",
   "id": "3565c009-b708-42c7-85b8-d98c12efa6a4",
   "metadata": {},
   "source": [
    "Um den Effekt der Gleitkommadarstellung und Nachiteration zu verdeutlichen, speichern wir die Matrix und den Vektor als 32-bit Gleitkommazahl (single precision) und verwenden 16-bit Gleitkommazahlen (half precision) für die LR-Zerlegung"
   ]
  },
  {
   "cell_type": "code",
   "execution_count": null,
   "id": "16385926-1c1a-4d09-9787-2d2f273181b2",
   "metadata": {},
   "outputs": [],
   "source": [
    "A_single = A.astype(np.single)\n",
    "b_single = b.astype(np.single)\n",
    "x = nachiteration(A_single, b_single, n=2, precision2=np.half)"
   ]
  },
  {
   "cell_type": "markdown",
   "id": "76c67cbe-db1c-4ae8-afca-a3805a6ef732",
   "metadata": {},
   "source": [
    "Im Vergleich zu der Lösung von `numpy` haben wir somit den relativen Fehler von"
   ]
  },
  {
   "cell_type": "code",
   "execution_count": null,
   "id": "aa24917a",
   "metadata": {},
   "outputs": [],
   "source": [
    "np.linalg.norm(x - x_np) / np.linalg.norm(x_np)"
   ]
  },
  {
   "cell_type": "markdown",
   "id": "463050f1-6e60-44fe-9258-5c2975a16e8a",
   "metadata": {},
   "source": [
    "was in etwa die Maschinengenauigkeit von single Gleitkommazahlen ist. Wir können an dieser Stelle noch mehr probieren. Zum Beispiel, wenn wir mehr Nachiterationsschritte zulassen und double Gleitkommazahlen für die Vektoren verwenden, dann sehen wir"
   ]
  },
  {
   "cell_type": "code",
   "execution_count": null,
   "id": "4067a4fa-6ca6-4aee-b5a1-383a548fc7cf",
   "metadata": {},
   "outputs": [],
   "source": [
    "x = nachiteration(A, b, n=5, precision2=np.half)\n",
    "np.linalg.norm(x - x_np) / np.linalg.norm(x_np)"
   ]
  },
  {
   "cell_type": "markdown",
   "id": "4f6cee9b-def1-4e6b-a697-9130763ca766",
   "metadata": {},
   "source": [
    "das wir auch hier mit half Gleitkommazahlen in der LR-Zerlegung das System auf double Genauigkeit gelöst bekommen."
   ]
  }
 ],
 "metadata": {
  "kernelspec": {
   "display_name": "Python 3 (ipykernel)",
   "language": "python",
   "name": "python3"
  },
  "language_info": {
   "codemirror_mode": {
    "name": "ipython",
    "version": 3
   },
   "file_extension": ".py",
   "mimetype": "text/x-python",
   "name": "python",
   "nbconvert_exporter": "python",
   "pygments_lexer": "ipython3",
   "version": "3.11.9"
  }
 },
 "nbformat": 4,
 "nbformat_minor": 5
}
