{
 "cells": [
  {
   "cell_type": "markdown",
   "id": "78bcccec",
   "metadata": {
    "editable": true,
    "slideshow": {
     "slide_type": ""
    },
    "tags": []
   },
   "source": [
    "## 1.2 Definition eines Algorithmus"
   ]
  },
  {
   "cell_type": "markdown",
   "id": "90945c6d",
   "metadata": {
    "editable": true,
    "slideshow": {
     "slide_type": ""
    },
    "tags": []
   },
   "source": [
    "**Implementierung 1.1: Horner-Schema**\n",
    "\n",
    "Als ersten Algorithmus implementieren wir das Horner-Schema. Dafür müssen wir im ersten Schritt die Ordnung des Polynoms, d.h., die Anzahl der Koeffizienten bestimmen, und dann rückwärts durch die Liste der Koeffizienten iterieren."
   ]
  },
  {
   "cell_type": "code",
   "execution_count": null,
   "id": "0946f884",
   "metadata": {
    "editable": true,
    "slideshow": {
     "slide_type": ""
    },
    "tags": []
   },
   "outputs": [],
   "source": [
    "def horner_schema(koeffizienten, x):\n",
    "    n = len(koeffizienten)\n",
    "    p = koeffizienten[-1]\n",
    "    for i in range(n - 1, 0, -1):\n",
    "        p = koeffizienten[i - 1] + x * p\n",
    "    return p"
   ]
  },
  {
   "cell_type": "markdown",
   "id": "a0b427aa",
   "metadata": {
    "editable": true,
    "slideshow": {
     "slide_type": ""
    },
    "tags": []
   },
   "source": [
    "Diese Funktion wenden wir auf das Polynom $$p(x) = 3x^5 - 2 x^4 + 1$$ an. Dabei müssen wir beim Übergeben der Koeffizienten vorsichtig sein, dass wir diese in der richtigen Reihenfolge und die Koeffizienten 0 für Terme niedriger Ordnung, die wir in dem Polynom nicht explizit aufgeschrieben haben, mit übergeben."
   ]
  },
  {
   "cell_type": "code",
   "execution_count": null,
   "id": "2899e51e",
   "metadata": {},
   "outputs": [],
   "source": [
    "horner_schema([1, 0, 0, 0, -2 ,3], 2)"
   ]
  },
  {
   "cell_type": "markdown",
   "id": "5265f9d9",
   "metadata": {},
   "source": [
    "*Ergänzende Einzelheiten zum Code*\n",
    "- Mit negativen Indizes können wir von rechts auf Elemente der Liste zugreifen.\n",
    "- Mit der Funktion `range(a, b, n)` können über die ganzen Zahlen im **halboffenen Inverval** $[a,b)$ in Schritten der Größe `n` iterieren.\n",
    "- Die `list` der Koeffizienten `koeffizienten` hat `n` Einträge. In Python starten Indizes, wie in den meisten Programmiersprachen, mit 0. Der Eintrag `koeffizienten[n - 1]` ist also der **letzte** der Liste. Daher müssen wir noch eine Indexverschiebung `i - 1` vornehmen. "
   ]
  },
  {
   "cell_type": "markdown",
   "id": "19eb7f74",
   "metadata": {},
   "source": [
    "**Implementierung 1.2: Vollständiges Horner-Schema**\n",
    "\n",
    "Für das vollständige Horner-Schema nehmen wir Matrizen aus der Python-Bibliothek `numpy`, die sehr viele Werkzeuge zum wissenschaftlichen Rechnen in Python zur Verfügung stellt. In dieser Matrix (`array`) werden dann die Werte gespeichert, die wir zum Auswerten des Polynoms und dessen Ableitungen benötigt werden."
   ]
  },
  {
   "cell_type": "code",
   "execution_count": null,
   "id": "fd6cd31a",
   "metadata": {},
   "outputs": [],
   "source": [
    "import numpy as np\n",
    "\n",
    "def vollstaendiges_horner_schema(koeffizienten, x):\n",
    "    n = len(koeffizienten)\n",
    "    p = np.zeros(n)\n",
    "    a = np.zeros((n + 1, n))\n",
    "    a[:, -1] = koeffizienten[-1]\n",
    "    a[0, :] = koeffizienten\n",
    "    \n",
    "    for k in range(n):\n",
    "        for j in range(n - 1, k, -1):\n",
    "            a[k + 1, j - 1] = a[k, j - 1] + a[k + 1, j] * x\n",
    "        p[k] = np.math.factorial(k) * a[k + 1, k]\n",
    "    return p"
   ]
  },
  {
   "cell_type": "markdown",
   "id": "79c1240c",
   "metadata": {},
   "source": [
    "Diesen Algorithmus wenden wir jetzt auf die obige Aufgabe an:"
   ]
  },
  {
   "cell_type": "code",
   "execution_count": null,
   "id": "adc1164a",
   "metadata": {},
   "outputs": [],
   "source": [
    "vollstaendiges_horner_schema([1, 0, 0, 0, -2 ,3], 2)"
   ]
  },
  {
   "cell_type": "markdown",
   "id": "aea1695e",
   "metadata": {},
   "source": [
    "*Ergänzende Einzelheiten zum Code*\n",
    "\n",
    "- Mit `a[:, -1]` setzen wir den Wert in **allen Reihen** in der **letzten Spalte**.\n",
    "- Bei `numpy` Objekten müssen wir besonders vorsichtig sein, dass wir die Einträge der bereits angelegten `array`s ändern, und nicht den Verweis auf das Objekt überschreiben."
   ]
  },
  {
   "cell_type": "code",
   "execution_count": null,
   "id": "7be63d16",
   "metadata": {},
   "outputs": [],
   "source": []
  }
 ],
 "metadata": {
  "kernelspec": {
   "display_name": "Python 3 (ipykernel)",
   "language": "python",
   "name": "python3"
  },
  "language_info": {
   "codemirror_mode": {
    "name": "ipython",
    "version": 3
   },
   "file_extension": ".py",
   "mimetype": "text/x-python",
   "name": "python",
   "nbconvert_exporter": "python",
   "pygments_lexer": "ipython3",
   "version": "3.11.9"
  }
 },
 "nbformat": 4,
 "nbformat_minor": 5
}
