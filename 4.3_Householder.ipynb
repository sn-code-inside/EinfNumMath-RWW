{
 "cells": [
  {
   "cell_type": "markdown",
   "id": "6a2339c7",
   "metadata": {},
   "source": [
    "## 4.3 Householder-Transformationen"
   ]
  },
  {
   "cell_type": "code",
   "execution_count": null,
   "id": "57f20fee",
   "metadata": {},
   "outputs": [],
   "source": [
    "import numpy as np\n",
    "from scripts.LR_Zerlegung import rueckwaerts_einsetzen"
   ]
  },
  {
   "cell_type": "markdown",
   "id": "a6de7a1e-7655-406a-9ab3-2dbc67534070",
   "metadata": {},
   "source": [
    "Wir implementieren dir QR-Zerlegung mithilfe von Householder-Transformationen und speichern dabei die Householder-Vektoren in einer weiteren Matrix."
   ]
  },
  {
   "cell_type": "code",
   "execution_count": null,
   "id": "476e8bfc",
   "metadata": {},
   "outputs": [],
   "source": [
    "def qr_householder(A):\n",
    "    n, m = A.shape\n",
    "    V = np.zeros_like(A)\n",
    "    \n",
    "    for i in range(m):\n",
    "        V[i:, i] = A[i:, i]\n",
    "        ei = np.zeros(n - i, dtype=A.dtype)\n",
    "        ei[0] = 1.0\n",
    "        V[i:, i] += np.sign(A[i, i]) * np.linalg.norm(V[i:, i]) * ei\n",
    "        V[i:, i] /= np.linalg.norm(V[i:, i])\n",
    "        for k in range(i, m):\n",
    "            A[i:, k] -= 2 * np.inner(V[i:, i], A[i:, k]) * V[i:, i]\n",
    "    return V"
   ]
  },
  {
   "cell_type": "markdown",
   "id": "f7a50b38-75e9-4fab-9a79-a74af505eda2",
   "metadata": {},
   "source": [
    "*Bemerkung: Wir unterscheiden hier bereits zwischen der Zahl der Zeilen und Spalten, um später auch den Fall $n>m$ abzudecken.*\n",
    "\n",
    "Um die QR-Zerlegung mit Householder-Transformationen effizient anzuwenden, müssen wir noch die Anwendung von $Q^T$ ohne Aufstellung der Matrix implementieren. "
   ]
  },
  {
   "cell_type": "code",
   "execution_count": null,
   "id": "bc1bd523",
   "metadata": {},
   "outputs": [],
   "source": [
    "def QT_anwenden(V, b):\n",
    "    for i in range(b.shape[0]):\n",
    "        b[i:] -= 2 * np.inner(V[i:, i], b[i:]) * V[i:, i]\n",
    "    return None"
   ]
  },
  {
   "cell_type": "markdown",
   "id": "4796d8f7-b0fb-4aac-8438-42661d2e171f",
   "metadata": {},
   "source": [
    "#### Beispiel 4.17 (QR-Zerlegung mit Householder-Transformationen)\n",
    "\n",
    "Angewandt auf dasselbe lineare Gleichungssystem wie bei der QR-Zerlegung mit dem Gram-Schmidt-Verfahren erhalten wir nun"
   ]
  },
  {
   "cell_type": "code",
   "execution_count": null,
   "id": "7d1f0a78",
   "metadata": {},
   "outputs": [],
   "source": [
    "A = np.array([[1,    1,    1   ],\n",
    "              [0.01, 0,    0.01],\n",
    "              [0,    0.01, 0.01]], dtype=np.half)\n",
    "b = np.array([1, 0, 0.02], dtype=np.half)\n",
    "x_ex = np.array([-1, 1, 1])"
   ]
  },
  {
   "cell_type": "code",
   "execution_count": null,
   "id": "75f1ff35-487b-471d-b375-ad15ae7129aa",
   "metadata": {},
   "outputs": [],
   "source": [
    "V = qr_householder(A)\n",
    "print(V)"
   ]
  },
  {
   "cell_type": "code",
   "execution_count": null,
   "id": "caf37fd2-98b8-46d4-8802-e6c41bc8b08e",
   "metadata": {},
   "outputs": [],
   "source": [
    "QT_anwenden(V, b)\n",
    "x = rueckwaerts_einsetzen(A, b)\n",
    "print(x)"
   ]
  },
  {
   "cell_type": "markdown",
   "id": "fe9c282d-b688-47fa-93b7-693c0c6c94d8",
   "metadata": {},
   "source": [
    "Hier erkennen wir, dass dies fast die exakte Lösung ist. In der Tat ist der relative Fehler nur noch"
   ]
  },
  {
   "cell_type": "code",
   "execution_count": null,
   "id": "d2173660",
   "metadata": {},
   "outputs": [],
   "source": [
    "rel_err = np.linalg.norm(x - x_ex) / np.linalg.norm(x_ex)\n",
    "print(f'||x - x_ex|| / ||x_ex|| = {rel_err}')"
   ]
  },
  {
   "cell_type": "markdown",
   "id": "3c783149-c8e2-4bd7-9530-0881f3e1cc83",
   "metadata": {},
   "source": [
    "Wir können zudem noch die Matrix $Q^T$ aus den Householder-Vektoren berechnen, um die Orthogonalität von $Q$ zu überprüfen: "
   ]
  },
  {
   "cell_type": "code",
   "execution_count": null,
   "id": "c4f58f9b",
   "metadata": {},
   "outputs": [],
   "source": [
    "n, m = V.shape\n",
    "QT = np.eye(m, dtype=V.dtype)\n",
    "for i in range(m):\n",
    "    S = np.eye(m, dtype=V.dtype)\n",
    "    S[i:, i:] = np.eye(m - i, dtype=V.dtype) - 2 * np.outer(V[i:, i], V[i:, i])\n",
    "    QT = S @ QT\n",
    "\n",
    "print(QT)"
   ]
  },
  {
   "cell_type": "code",
   "execution_count": null,
   "id": "51db2b81-2413-4bcc-a254-b277190bcbc8",
   "metadata": {},
   "outputs": [],
   "source": [
    "np.linalg.norm(QT @ QT.T - np.eye(3, dtype=np.single), 2)"
   ]
  },
  {
   "cell_type": "code",
   "execution_count": null,
   "id": "9951acc5-6b5a-412c-a482-ab602867bee4",
   "metadata": {},
   "outputs": [],
   "source": [
    "print(QT @ QT.T)"
   ]
  }
 ],
 "metadata": {
  "kernelspec": {
   "display_name": "Python 3 (ipykernel)",
   "language": "python",
   "name": "python3"
  },
  "language_info": {
   "codemirror_mode": {
    "name": "ipython",
    "version": 3
   },
   "file_extension": ".py",
   "mimetype": "text/x-python",
   "name": "python",
   "nbconvert_exporter": "python",
   "pygments_lexer": "ipython3",
   "version": "3.11.9"
  }
 },
 "nbformat": 4,
 "nbformat_minor": 5
}
