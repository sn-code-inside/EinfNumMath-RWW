{
 "cells": [
  {
   "cell_type": "markdown",
   "id": "19bfd841-58bc-402e-9008-55e24d11e18a",
   "metadata": {},
   "source": [
    "## 6.3 Das GMRES-Verfahren"
   ]
  },
  {
   "cell_type": "code",
   "execution_count": null,
   "id": "7ea64c1b-2639-4ac5-9d65-1170aa09b7ec",
   "metadata": {},
   "outputs": [],
   "source": [
    "import numpy as np\n",
    "import time"
   ]
  },
  {
   "cell_type": "markdown",
   "id": "5940869a-86d0-45aa-8b3d-18bb9aff7c5e",
   "metadata": {},
   "source": [
    "**Implementierung 6.2: GMRES mit modifiziertem Gram-Schmidt**\n",
    "\n",
    "Wir implementieren das GMRES-Verfahren unter Verwendung von `numpy` Routinen für Skalarprodukte und Normen. "
   ]
  },
  {
   "cell_type": "code",
   "execution_count": null,
   "id": "36415dfd-2c2a-449e-97f2-7f0d499d6e6b",
   "metadata": {},
   "outputs": [],
   "source": [
    "def gmres_verfahren(A, b, x, m, eps):\n",
    "    n = A.shape[0]\n",
    "    x = x.copy()\n",
    "    d = b.copy() - A.dot(x)\n",
    "    b = np.zeros(m + 1)\n",
    "    b[0] = np.linalg.norm(d)\n",
    "    \n",
    "    v = np.zeros((n, m + 1))\n",
    "    h = np.zeros((m + 1, m))\n",
    "    R = np.zeros((m, 2, 2))\n",
    "    \n",
    "    v[:, 0] = d / b[0]\n",
    "\n",
    "    for k in range(m):\n",
    "        w = A.dot(v[:, k])\n",
    "        for j in range(k + 1):\n",
    "            h[j, k] = np.dot(w, v[:, j])\n",
    "            w -= h[j, k] * v[:, j]\n",
    "        h[k + 1, k] = np.linalg.norm(w)\n",
    "        \n",
    "        if np.abs(h[k + 1, k]) > 1e-12:\n",
    "            v[:, k + 1] = w / h[k + 1, k]\n",
    "            \n",
    "            for j in range(k):\n",
    "                h[j:j + 2, k] = R[j].dot(h[j:j + 2, k])\n",
    "\n",
    "            alpha = np.linalg.norm(h[k:k + 2, k])\n",
    "\n",
    "            R[k, 0, 0] = h[k, k] / alpha\n",
    "            R[k, 0, 1] = h[k + 1, k] / alpha\n",
    "            R[k, 1, 1], R[k, 1, 0] = R[k, 0, 0], -R[k, 0, 1]\n",
    "            \n",
    "            h[k:k + 2, k] = alpha, 0\n",
    "            b[k + 1] = R[k, 1, 0] * b[k]\n",
    "            b[k] = R[k, 0, 0] * b[k]\n",
    "            if np.abs(b[k + 1]) < eps:\n",
    "                break\n",
    "        else:\n",
    "            break\n",
    "    \n",
    "    y = np.zeros(k + 1)\n",
    "    y[-1] = b[-1] / h[k, k]\n",
    "    for i in range(k - 2, -1, -1):\n",
    "        y[i] = (b[i] - h[i, i + 1:k + 1].dot(y[i + 1:])) / h[i, i] \n",
    "    for i in range(k):\n",
    "        x += y[i] * v[:, i]\n",
    "    return x, k"
   ]
  },
  {
   "cell_type": "markdown",
   "id": "9a571571-f818-4e3d-a329-357d6eda11fb",
   "metadata": {},
   "source": [
    "#### Beispiel 6.21\n",
    "Wir betrachten die Modellmatrix und wenden unsere Implementierung des GMRES-Verfahrens hierauf an. Dies liefert folgende Ergebnisse"
   ]
  },
  {
   "cell_type": "code",
   "execution_count": null,
   "id": "4501b9a7-86b1-4e91-8bb7-c8a09b0a0571",
   "metadata": {},
   "outputs": [],
   "source": [
    "for m in range(20, 101, 10):\n",
    "    n = m**2\n",
    "    N = np.diag(np.ones(m - 1), 1) + np.diag(np.ones(m - 1), -1)\n",
    "    B = 4 * np.eye(m) - N\n",
    "    A = np.kron(np.eye(m), B) - np.kron(N, np.eye(m))\n",
    "    b = np.ones(n)\n",
    "    x0 = np.zeros(n)\n",
    "\n",
    "    t = time.perf_counter()\n",
    "    xgmres, k = gmres_verfahren(A, b, x0, n, eps=1e-6)\n",
    "    t = time.perf_counter() - t\n",
    "\n",
    "    res = np.linalg.norm(b - np.dot(A, xgmres))\n",
    "    xexact = np.linalg.solve(A, b)\n",
    "    print(f'n = {n:05d}, Schritte = {k:03d}, Zeit = {t:07.4f}sec, res = {res:4.2e}, Fehler = {np.linalg.norm(xgmres - xexact):4.2e}')"
   ]
  },
  {
   "cell_type": "markdown",
   "id": "ab64ebd5-4980-417f-997c-3839935f1b20",
   "metadata": {},
   "source": [
    "Wir beobachten, dass die Anzahl an notwendigen Schritten hier sogar vergleichbar mit dem CG-Verfahren ist. Das Verfahren ist zwar aufwändiger, dafür kann es auf allgemeine lineare Gleichungssysteme angewandt werden."
   ]
  },
  {
   "cell_type": "code",
   "execution_count": null,
   "id": "4a35edfa-d87f-471d-a043-ece5a2b2df1b",
   "metadata": {},
   "outputs": [],
   "source": []
  }
 ],
 "metadata": {
  "kernelspec": {
   "display_name": "Python 3 (ipykernel)",
   "language": "python",
   "name": "python3"
  },
  "language_info": {
   "codemirror_mode": {
    "name": "ipython",
    "version": 3
   },
   "file_extension": ".py",
   "mimetype": "text/x-python",
   "name": "python",
   "nbconvert_exporter": "python",
   "pygments_lexer": "ipython3",
   "version": "3.11.9"
  }
 },
 "nbformat": 4,
 "nbformat_minor": 5
}
