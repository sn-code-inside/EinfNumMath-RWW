{
 "cells": [
  {
   "cell_type": "markdown",
   "id": "4fbfb4b0",
   "metadata": {},
   "source": [
    "## 8.4 Nullstellensuche im $\\mathbb{R}^n$ "
   ]
  },
  {
   "cell_type": "code",
   "execution_count": null,
   "id": "6424af34",
   "metadata": {},
   "outputs": [],
   "source": [
    "import numpy as np\n",
    "from scripts.LR_Zerlegung import LR_zerlegung_mit_pivot, vorwaerts_einsetzen_ohne_diag, rueckwaerts_einsetzen"
   ]
  },
  {
   "cell_type": "markdown",
   "id": "5fd689f4",
   "metadata": {},
   "source": [
    "**Implementierung 8.5: Newton-Verfahren in  $\\mathbb{R}^n$**\n",
    "\n",
    "Um das normale Newton-Verfahren im Höher-Dimensionalen zu implementieren, müssen wir in jeder Iteration ein lineares Gleichungssystem lösen. Dazu verwenden wir unsere LR-Zerlegung mit Pivotisierung."
   ]
  },
  {
   "cell_type": "code",
   "execution_count": null,
   "id": "f841a342",
   "metadata": {},
   "outputs": [],
   "source": [
    "def newton_vek(f, D, x, n=10, tol=1e-10):\n",
    "    print('it  ||f(x)||')\n",
    "    print('--------------')\n",
    "    \n",
    "    for i in range(n):\n",
    "        b = - f(x)\n",
    "        print(f'{i:02d} {np.linalg.norm(b): .4e}')\n",
    "        if np.linalg.norm(b) < tol:\n",
    "            return i, x\n",
    "        \n",
    "        jac = D(x)\n",
    "        pivot = LR_zerlegung_mit_pivot(jac)\n",
    "        \n",
    "        for p in pivot:\n",
    "            b[p] = b[[p[1], p[0]]]\n",
    "        y = vorwaerts_einsetzen_ohne_diag(jac, b)\n",
    "        w = rueckwaerts_einsetzen(jac, y)\n",
    "        x[:] += w\n",
    "    else: \n",
    "        print(f'Das Newton-Verfahren ist nicht konvergiert')\n",
    "        return i, x"
   ]
  },
  {
   "cell_type": "markdown",
   "id": "491e71cb-898a-49fb-b5d9-5eb048992fcb",
   "metadata": {},
   "source": [
    "#### Beispiel 8.32 (Newton im $\\mathbb{R}^n$)\n",
    "\n",
    "Wir suchen die Nullstelle der Funktion\n",
    "$$f(x_1,x_2) = \\begin{pmatrix}1-x_1^2-x_2^2 \\\\ (x_1-2x_2)/(1/2+x_2)\\end{pmatrix}$$\n",
    "mit der Jacobi-Matrix\n",
    "$$ Df(x) = \\begin{pmatrix} -2x_1 & -2x_2 \\\\ \\frac{2}{1+2x_2} & -\\frac{4+4x_1}{(1+2x_2)^2}\\end{pmatrix}.$$\n",
    "Die Nullstellen sind dabei\n",
    "$$x \\approx \\pm (0.894427191, 0.447213595).$$\n",
    "Für die Nullstellensuche implementieren wir zunächst die Funktion und Jacobi-Matrix."
   ]
  },
  {
   "cell_type": "code",
   "execution_count": null,
   "id": "b24d7443",
   "metadata": {},
   "outputs": [],
   "source": [
    "def f(x):\n",
    "    x, y = x[:]\n",
    "    return np.array([1 - x**2 - y**2, (x - 2 * y) / (1 / 2 + y)], dtype=np.double)\n",
    "\n",
    "def Df(x):\n",
    "    x, y = x[:]\n",
    "    return np.array([[-2 * x, -2 * y],\n",
    "                     [2 / (1 + 2 * y), - (4 + 4 * x)/ (1 + 2 * y)**2]], dtype=np.double)"
   ]
  },
  {
   "cell_type": "markdown",
   "id": "e24aaa95-4a82-4dcb-afbb-5a7da0a498a6",
   "metadata": {},
   "source": [
    "Mit dem Startvektor $x_0 = (1, 1)^T$ erhalten wir dann die Lösung"
   ]
  },
  {
   "cell_type": "code",
   "execution_count": null,
   "id": "db447cc6",
   "metadata": {},
   "outputs": [],
   "source": [
    "n, x = newton_vek(f, Df, x=np.array([1.0, 1.0]), n=15, tol=1e-10)"
   ]
  },
  {
   "cell_type": "code",
   "execution_count": null,
   "id": "3640bbb4-2d77-4544-bb69-724b5aafc901",
   "metadata": {},
   "outputs": [],
   "source": [
    "print(f'x = {x} nach {n} Schritten')"
   ]
  },
  {
   "cell_type": "markdown",
   "id": "ab868507-96ee-4c75-aaa9-2c23a70e7044",
   "metadata": {},
   "source": [
    "und mit dem Startvektor $x_0 = (-1, -0.2)^T$ die zweite Nullstelle:"
   ]
  },
  {
   "cell_type": "code",
   "execution_count": null,
   "id": "705fe6d9",
   "metadata": {},
   "outputs": [],
   "source": [
    "n, x = newton_vek(f, Df, x=np.array([-1.0, -0.2]), n=15, tol=1e-10)\n",
    "print(f'x = {x} nach {n} Schritten')"
   ]
  },
  {
   "cell_type": "markdown",
   "id": "492db345-5976-4578-b379-6bbd7c615277",
   "metadata": {},
   "source": [
    "Der aufwändigste Schritt in dem Newton-Verfahren ist die Berechnung der LR-Zerlegung. Daher kann es sich im vektorwertigen Fall besonders lohnen das vereinfachte Newton-Verfahren zu verwenden.\n",
    "\n",
    "**Implementierung 8.6: Vereinfachtes Newton-Verfahren in $\\mathbb{R}^n$**"
   ]
  },
  {
   "cell_type": "code",
   "execution_count": null,
   "id": "717abe30",
   "metadata": {},
   "outputs": [],
   "source": [
    "def newton_vereinfacht_vek(f, D, x, n=10, tol=1e-10):\n",
    "    jac = D(x)\n",
    "    pivot = LR_zerlegung_mit_pivot(jac)\n",
    "    # print(jac)\n",
    "    \n",
    "    for i in range(n):\n",
    "        b = - f(x)\n",
    "        if np.linalg.norm(b) < tol:\n",
    "            return i, x\n",
    "        for p in pivot:\n",
    "            b[p] = b[[p[1], p[0]]]\n",
    "        y = vorwaerts_einsetzen_ohne_diag(jac, b)\n",
    "        w = rueckwaerts_einsetzen(jac, y)\n",
    "        x[:] += w\n",
    "    else: \n",
    "        print(f'Das vereinfachte Newton-Verfahren ist nach {i} Iterationen konvergiert: {np.linalg.norm(f(x))}')\n",
    "    return i, x"
   ]
  },
  {
   "cell_type": "markdown",
   "id": "13ea62c7-6403-4ed1-a4bc-07ab29481388",
   "metadata": {},
   "source": [
    "Wir wenden das vereinfachte Newton-Verfahren auf dasselbe Beispiel an. Dabei sehen wir, dass die Wahl der Startlösung (also die Stelle an der wir die Jacobi-Matrix invertieren) einen besonders großen Einfluss hat."
   ]
  },
  {
   "cell_type": "code",
   "execution_count": null,
   "id": "b58c8215",
   "metadata": {},
   "outputs": [],
   "source": [
    "n, x = newton_vereinfacht_vek(f, Df, x=np.array([1.0, 0.5]), n=50, tol=1e-10)"
   ]
  },
  {
   "cell_type": "code",
   "execution_count": null,
   "id": "8e19f64b-327e-4a04-8d71-4a16cb4ee800",
   "metadata": {},
   "outputs": [],
   "source": [
    "print(f'x = {x} nach {n} Schritten')"
   ]
  },
  {
   "cell_type": "code",
   "execution_count": null,
   "id": "b9cbf428",
   "metadata": {},
   "outputs": [],
   "source": [
    "n, x = newton_vereinfacht_vek(f, Df, x=np.array([1.0, 1.0]), n=700, tol=1e-10)\n",
    "print(f'x = {x} nach {n} Schritten')"
   ]
  },
  {
   "cell_type": "code",
   "execution_count": null,
   "id": "65296f3e",
   "metadata": {},
   "outputs": [],
   "source": [
    "newton_vereinfacht_vek(f, Df, x=np.array([-1.0, 1.0]), n=1000, tol=1e-10)\n",
    "print(f'x = {x} nach {n} Schritten')"
   ]
  },
  {
   "cell_type": "markdown",
   "id": "4557608c-d571-45f5-bbeb-c32b2f7704ff",
   "metadata": {},
   "source": [
    "Wie Sie sehen, kann es sein, dass das Verfahren nicht konvergiert.\n",
    "\n",
    "Vergleichen Sie nun die Laufzeit des vereinfachten Newton-Verfahrens mit der jupyter cell-magic `%%timeit` mit $x_0 = (1, 0.5)$ mit dem Newton-Verfahren mit dem Startwert $x_0 = (1,1)$. Was beobachten Sie? Was schließen Sie dabei auf den Rechenaufwand der einzelnen Iterationsschritte der beiden Verfahren? Was erwarten Sie, wenn die Dimension des Problems wächst?\n",
    "\n",
    "### 8.4.2 Globalisierung des Newton-Verfahrens\n",
    "\n",
    "Wie wir gesehen haben, konvergiert das vereinfachte Newton-Verfahren nur manchmal. Es kann aber von Vorteil sein, da jeder einzelne Schritt deutlich schneller ist."
   ]
  },
  {
   "cell_type": "markdown",
   "id": "1d54cf17-e6dd-4cf5-b177-ee53b1cad49a",
   "metadata": {},
   "source": [
    "Unter Umständen kann das vektorwertige Newton-Verfahren sogar nur langsam oder gar nicht konvergieren."
   ]
  },
  {
   "cell_type": "code",
   "execution_count": null,
   "id": "f71ea9fa-5922-4556-9789-a3dcfd04d445",
   "metadata": {},
   "outputs": [],
   "source": [
    "newton_vek(f, Df, x=np.array([0, -0.49999]), n=35, tol=1e-10)"
   ]
  },
  {
   "cell_type": "markdown",
   "id": "e3e097cd-e5e4-467d-bd00-63268f0a1fbc",
   "metadata": {},
   "source": [
    "Um den Konvergenzradius zu vergrößern, können wir die Schrittgröße des Newton-Verfahrens in jeder Iteration dämpfen."
   ]
  },
  {
   "cell_type": "code",
   "execution_count": null,
   "id": "1849f64f-2c8e-4861-a940-cd1a51b59336",
   "metadata": {},
   "outputs": [],
   "source": [
    "def newton_gedämpft_vek(f, D, x, omega, n=10, tol=1e-10):\n",
    "    assert len(omega) == n, 'Anzahl Dämpfungsparameter und Schritte verschieden'\n",
    "\n",
    "    print('it  ||f(x)||')\n",
    "    print('--------------')\n",
    "    \n",
    "    for i in range(n):\n",
    "        b = - f(x)\n",
    "        print(f'{i:02d} {np.linalg.norm(b): .4e}')\n",
    "        if np.linalg.norm(b) < tol:\n",
    "            return i, x\n",
    "        jac = D(x)\n",
    "        pivot = LR_zerlegung_mit_pivot(jac)\n",
    "        for p in pivot:\n",
    "            b[p] = b[[p[1], p[0]]]\n",
    "        y = vorwaerts_einsetzen_ohne_diag(jac, b)\n",
    "        w = rueckwaerts_einsetzen(jac, y)\n",
    "        x[:] += omega[i] * w\n",
    "\n",
    "    else: \n",
    "        print(f'Das gedämpfte Newton Verfahren ist nicht konvergiert')\n",
    "        return i, x"
   ]
  },
  {
   "cell_type": "markdown",
   "id": "5c462807-7b85-4816-95ad-425c03d5c55a",
   "metadata": {},
   "source": [
    "#### Beispiel 8.35(Gedämpftes Newton-Verfahren) "
   ]
  },
  {
   "cell_type": "code",
   "execution_count": null,
   "id": "a02d59f6-9487-4c12-b484-e943f28ccd63",
   "metadata": {},
   "outputs": [],
   "source": [
    "newton_gedämpft_vek(f, Df, x=np.array([0, -0.49999]), omega=[0.88] * 50, n=50, tol=1e-10)"
   ]
  },
  {
   "cell_type": "markdown",
   "id": "2e22aab4-7424-4d97-9013-ead0e2d0aa53",
   "metadata": {},
   "source": [
    "Sogar das vereinfachte Newton-Verfahren lässt sich unter Umständen durch eine geschickte Wahl der Dämpfung verbessern."
   ]
  },
  {
   "cell_type": "code",
   "execution_count": null,
   "id": "93e1c55f-687e-49e8-bf34-88181af74be3",
   "metadata": {},
   "outputs": [],
   "source": [
    "def newton_vereinfacht_gedämpft_vek(f, D, x, omega, n=10, tol=1e-10):\n",
    "    assert len(omega) == n, 'Anzahl Dämpfungsparameter und Schritte verschieden'\n",
    "    jac = D(x)\n",
    "    pivot = LR_zerlegung_mit_pivot(jac)\n",
    "    for i in range(n):\n",
    "        b = - f(x)\n",
    "        if np.linalg.norm(b) < tol:\n",
    "            return i, x\n",
    "        for p in pivot:\n",
    "            b[p] = b[[p[1], p[0]]]\n",
    "        y = vorwaerts_einsetzen_ohne_diag(jac, b)\n",
    "        w = rueckwaerts_einsetzen(jac, y)\n",
    "        x[:] += omega[i] * w\n",
    "    else: \n",
    "        print(f'Das gedämpfte Newton Verfahren ist nicht konvergiert')\n",
    "        return i, x"
   ]
  },
  {
   "cell_type": "code",
   "execution_count": null,
   "id": "960d08dd-8d38-4b51-912f-ec3764e1c411",
   "metadata": {},
   "outputs": [],
   "source": [
    "newton_vereinfacht_gedämpft_vek(f, Df, x=np.array([1.0, 1.0]), omega=[0.74] * 30, n=30, tol=1e-10)"
   ]
  },
  {
   "cell_type": "markdown",
   "id": "78b8fe2f-08ae-4fd3-af0f-ccc25dd03852",
   "metadata": {},
   "source": [
    "Es sind also nur noch 27 statt 670 Schritte jetzt notwendig"
   ]
  },
  {
   "cell_type": "markdown",
   "id": "1d9cbb3d-2946-4db8-a666-a8750f24abc7",
   "metadata": {},
   "source": [
    "Da wir nun am Anfang nicht so weit in die falsche Richtung laufen, konvergiert das Verfahren schneller als das normale Newton-Verfahren. Allerdings erhalten wir nur langsame Konvergenz in jedem Schritt. Es ist also wichtig im Einzugsbereich der quadratischen Konvergenz auf das volle Newton-Verfahren zu wechseln. "
   ]
  },
  {
   "cell_type": "markdown",
   "id": "eb0cd0cd",
   "metadata": {},
   "source": [
    "**Implementierung 8.7: Globalisiertes Newton-Verfahren**\n",
    "\n",
    "Oben haben wir gesehen, dass das vereinfachte Newton-Verfahren 670 Schritte benötigt. Mit einer geschickten Wahl der Dämpfung konnten wir dies auf 27 reduzieren. Allerdings ist die korrekte Wahl von $\\omega$ nicht einfach. Um im vektorwertigen vereinfachen Newton-Verfahren den Konvergenzbereich zu vergrößern, können wir hier auch eine Liniensuche einbauen um einen möglichst großen Dämpfungsparameter zu nehmen, und die Jacobi Matrix so zu aktualisieren, um die Konvergenz zu verbessern."
   ]
  },
  {
   "cell_type": "code",
   "execution_count": null,
   "id": "7750c2e9",
   "metadata": {},
   "outputs": [],
   "source": [
    "def newton_global_vek(f, D, x, sigma=0.5, Lmax=10, n=10, tol=1e-10):\n",
    "    b = - f(x)\n",
    "    res0, res1 = np.linalg.norm(b), float('nan')\n",
    "    if res0 < tol:\n",
    "        return 0, x\n",
    "    \n",
    "    for i in range(n):\n",
    "        if i == 0 or res0 / res1 > 0.3:\n",
    "            print(f'i = {i}: Jacobi Matrix wird neu aufgestellt')\n",
    "            jac = D(x)\n",
    "            pivot = LR_zerlegung_mit_pivot(jac)\n",
    "        for p in pivot:\n",
    "            b[p] = b[[p[1], p[0]]]\n",
    "        y = vorwaerts_einsetzen_ohne_diag(jac, b)\n",
    "        w = rueckwaerts_einsetzen(jac, y)\n",
    "        \n",
    "        for l in range(Lmax):\n",
    "            x_neu = x.copy() + sigma**l * w\n",
    "            b = -f(x_neu)\n",
    "            res2 = np.linalg.norm(b)\n",
    "            if res2 < res0:\n",
    "                if l > 0:\n",
    "                    print(f'i = {i}: Es waren {l} Line-Search Schritte notwendig')\n",
    "                x = x_neu\n",
    "                break\n",
    "        else:\n",
    "            print(f'Schritt {i}: {l} Line-Search Schritte haben das Residuum nicht verbessert')\n",
    "            x = x_neu\n",
    "        \n",
    "        res1 = res0\n",
    "        res0 = res2\n",
    "        if res0 < tol:\n",
    "            return i, x\n",
    "    else: \n",
    "        print(f'Die globalisierte Newton-Methode ist nicht konvergiert, res = {res0}')\n",
    "        return i, x"
   ]
  },
  {
   "cell_type": "markdown",
   "id": "efa7ea9e-4486-4f3c-ac93-8cd8ef1f5ea1",
   "metadata": {},
   "source": [
    "Wenden wir dies nun an mit dem Startwert $x_0 = (1,1)^T$, wo bisher 670 Schritte notwendig waren, sehen wir"
   ]
  },
  {
   "cell_type": "code",
   "execution_count": null,
   "id": "ece135f4",
   "metadata": {},
   "outputs": [],
   "source": [
    "n, x = newton_global_vek(f, Df, x=np.array([1.0, 1.0]), n=20, tol=1e-10)\n",
    "print(f'\\nn = {n}, x = {x}')"
   ]
  },
  {
   "cell_type": "markdown",
   "id": "d6fca187-1a7f-4c67-9d21-9e34865412ce",
   "metadata": {},
   "source": [
    "Durch eine Aktualisierung der Jacobi-Matrix, benötigen wir weniger als $1/40$ der Anzahl der Schritte im Vergleich zum vereinfachten Newton-Verfahren. Testen wir nun also noch den Startwert $x_0=(-1, 1)^T$, in dem das vereinfachte Newton-Verfahren nicht konvergiert ist"
   ]
  },
  {
   "cell_type": "code",
   "execution_count": null,
   "id": "b9af7008",
   "metadata": {},
   "outputs": [],
   "source": [
    "n, x = newton_global_vek(f, Df, x=np.array([-1.0, 1.0]), n=50, tol=1e-10)\n",
    "print(f'\\nn = {n}, x = {x}')"
   ]
  },
  {
   "cell_type": "markdown",
   "id": "bbefd4e0-3848-45bf-bb13-6706e5ce84e4",
   "metadata": {},
   "source": [
    "Durch die Kombination der Line-Search und Aktualisierung der Jacobi-Matrix, konvergiert das Verfahren nun auch bei dieser Wahl des Startwertes.\n",
    "\n",
    "Nehmen wir den Startwert $x=(0, -0.49999)$, bei dem die erste Jacobi-Matrix fast singulär ist, dann bekommen wir nun"
   ]
  },
  {
   "cell_type": "code",
   "execution_count": null,
   "id": "0997521b-fbc2-4a33-976e-c590bc7eca6a",
   "metadata": {},
   "outputs": [],
   "source": [
    "n, x = newton_global_vek(f, Df, x=np.array([0, -0.49999]), n=50, tol=1e-10)\n",
    "print(f'\\nn = {n}, x = {x}')"
   ]
  },
  {
   "cell_type": "markdown",
   "id": "51a1e910-439f-4fa2-bd7a-d9a0ebb8a2ab",
   "metadata": {},
   "source": [
    "Also haben wir auch hier wieder Konvergenz erreicht. Es benötigt allerdings einige Schritte bevor wir in den Bereich kommen, wo eine Neuaufstellung der Jacobi-Matrix nicht mehr notwendig ist."
   ]
  }
 ],
 "metadata": {
  "kernelspec": {
   "display_name": "Python 3 (ipykernel)",
   "language": "python",
   "name": "python3"
  },
  "language_info": {
   "codemirror_mode": {
    "name": "ipython",
    "version": 3
   },
   "file_extension": ".py",
   "mimetype": "text/x-python",
   "name": "python",
   "nbconvert_exporter": "python",
   "pygments_lexer": "ipython3",
   "version": "3.11.9"
  }
 },
 "nbformat": 4,
 "nbformat_minor": 5
}
